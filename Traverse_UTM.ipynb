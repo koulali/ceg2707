{
 "cells": [
  {
   "cell_type": "markdown",
   "id": "f9ab842e-08fd-462b-bad1-82b6892e1131",
   "metadata": {},
   "source": [
    "## EXAMPLE TRAVERSE COMPUTATIONS ON THE UTM PROJECTION PLANE\n",
    "\n",
    "> Based on notes of R.E. Deakin\n",
    "> School of Mathematical and Geospatial Sciences\n",
    "> RMIT University \n",
    "\n",
    "Using the reduced traverse observations (geodesic distances and geodesic angles) and\n",
    "coordinates of the fixed stations Smeaton, Buninyong, Arthur's Seat and Bass, the MGA94\n",
    "East and North coordinates of the traverse stations are computed. \n",
    "\n",
    "\n",
    "![](./https://github.com/koulali/ceg2707/blob/main/Trav_Comp_V2.1_fig1.png?raw=true)\n",
    "\n",
    "\n",
    "The method of computation is iterative and each leg of the traverse is computed before proceeding to the\n",
    "next leg. A diagram for each traverse leg is essential. \n",
    "\n",
    "The reduced traverse observations are shown in table below:\n",
    "\n",
    "|   | Station            | Geodesic angle      |\n",
    "|---|--------------------|---------------------|\n",
    "|   | Geodesic Distance  |                     |\n",
    "| 1 | Smeaton            |                     |\n",
    "| 2 | Buninyong          |                     |\n",
    "|   | (2-3) 54972.161 m  | (1-2-3) 119º47'10.06\" |\n",
    "| 3 | Flinders Peak      |                     |\n",
    "|   | (3-4) 27659.183 m  | (2-3-4) 196º43'49.44\" |\n",
    "| 4 | Berllarine         |                     |\n",
    "|   | (4-5) 37175.169 m  | (3-4-5) 163º45'32.33\" |\n",
    "| 5 | Arthur's Seat      |                     |\n",
    "|   |                    | (4-5-6) 158º34'37.46\" |\n",
    "| 6 | Bass               |                     |\n",
    "|   |                    |                     |\n",
    "\n",
    "\n",
    "The traverse diagram is shown in Figure 8 with MGA94 coordinates of the fixed stations in\n",
    "the traverse. It is required to compute the MGA94 coordinates of Flinders Peak and\n",
    "Bellarine. \n",
    "\n",
    "![](./![](./https://github.com/koulali/ceg2707/blob/main/Trav_Comp_V2.1_fig2.png?raw=true))\n",
    "\n",
    "\n",
    "The figure above shows the traverse lines Buninyong–Smeaton and Buninyong–Flinders Peak with\n",
    "computed values of relevant plane bearings $(\\theta)$, arc-to-chord corrections $(\\delta)$, grid bearings\n",
    "($β$) , geodesic distance $(s)$, line scale factor $(K)$, plane distance $(L)$ and computed\n",
    "coordinates $(E,N)$ of Flinders Peak. The quantities on the diagram are computed in the\n",
    "following sequence."
   ]
  },
  {
   "cell_type": "code",
   "execution_count": 1,
   "id": "2c8e09ee-b8ac-4f64-8146-492c40628f02",
   "metadata": {},
   "outputs": [],
   "source": [
    "from pyproj import Transformer\n",
    "import pyproj\n",
    "import numpy as np\n",
    "from rich.table import Table\n",
    "from rich.console import Console"
   ]
  },
  {
   "cell_type": "code",
   "execution_count": 2,
   "id": "bc214745-f0f2-4238-975f-492e55a081b1",
   "metadata": {},
   "outputs": [],
   "source": [
    "def decimal_to_dms(deg, ndp=4):\n",
    "    \"\"\"Convert from decimal degrees to degrees, minutes, seconds.\"\"\"\n",
    "\n",
    "    m, s = divmod(abs(deg)*3600, 60)\n",
    "    d, m = divmod(m, 60)\n",
    "    if deg < 0:\n",
    "        d = -d\n",
    "    d, m = int(d), int(m)\n",
    "    s = np.round(s, 4)\n",
    "\n",
    "    return d, m, s"
   ]
  },
  {
   "cell_type": "code",
   "execution_count": 3,
   "id": "ed6cc710-b7d8-46a7-9a6f-6524425f5516",
   "metadata": {},
   "outputs": [],
   "source": [
    "# Coordinates variables\n",
    "# Smeaton\n",
    "E_p1,N_p1 = 232681.899,5867898.055\n",
    "# Buninyoug\n",
    "E_p2,N_p2 = 228854.041,5828259.033"
   ]
  },
  {
   "cell_type": "markdown",
   "id": "61f12c7e-c177-41ce-9d53-4219354d0989",
   "metadata": {},
   "source": [
    "#### STEP 1 Compute the plane bearing of the back-sight line Buninyong-Smeaton\n",
    "Using the MGA94 coordinates from the traverse diagram (Figure 1), we compute the plane bearing $\\theta$ of the line \n",
    "Buninyong-Smeaton. The bearing equation is\n",
    "\n",
    "$$\n",
    "\\theta = \\tan^-1\\left( \\dfrac{E_2-E_1}{N_2-N_1}\\right)\n",
    "$$"
   ]
  },
  {
   "cell_type": "markdown",
   "id": "8027343a-6109-4a1b-9200-1833eb15811a",
   "metadata": {},
   "source": [
    "The plane bearing: point 2 - point 1"
   ]
  },
  {
   "cell_type": "code",
   "execution_count": 4,
   "id": "eea03f37-3eb9-4122-8580-25d445c8097b",
   "metadata": {},
   "outputs": [
    {
     "data": {
      "text/html": [
       "<pre style=\"white-space:pre;overflow-x:auto;line-height:normal;font-family:Menlo,'DejaVu Sans Mono',consolas,'Courier New',monospace\">┌────────────────────────────────────┬──────────────┐\n",
       "│ Plane bearing of Smeaton-Buninyong │ 5°30'56.992\" │\n",
       "└────────────────────────────────────┴──────────────┘\n",
       "</pre>\n"
      ],
      "text/plain": [
       "┌────────────────────────────────────┬──────────────┐\n",
       "│ Plane bearing of Smeaton-Buninyong │ 5°30'56.992\" │\n",
       "└────────────────────────────────────┴──────────────┘\n"
      ]
     },
     "metadata": {},
     "output_type": "display_data"
    }
   ],
   "source": [
    "theta_Buninyoung_Smeaton = np.arctan2(E_p1-E_p2,N_p1-N_p2)\n",
    "degrees,minutes,seconds = decimal_to_dms(np.degrees(theta_Buninyoung_Smeaton))\n",
    "\n",
    "console = Console()\n",
    "table = Table(show_header=False, show_lines=True)\n",
    "table.add_row(\n",
    "    \"Plane bearing of Smeaton-Buninyong\",str(degrees)+\"°\"+str(minutes)+\"'\"+str(seconds)+\"\\\"\"\n",
    ")\n",
    "console.print(table)"
   ]
  },
  {
   "cell_type": "markdown",
   "id": "670bd869-1f1f-46e1-8afb-a5674826126f",
   "metadata": {},
   "source": [
    "#### STEP 2 Compute the arc-to-chord correction $\\delta$ of the back-sight line Smeaton– Buninyong.\n",
    "\n",
    "Before doing the arc-to-chord correction, we first convert MGA94 E,N coordinates of the\n",
    "instrument station Buninyong, and back-sight station Smeaton, to GDA94 latitudes\n",
    "and longitudes. Here we use pyproj python module with the EPSG Geodetic Parameter Dataset, which is a public registry of geodetic datums, spatial reference systems, Earth ellipsoids, coordinate transformations and related units of measurement.\n",
    "\n",
    "We use EPSG:28355 for the MGA94 UTM projection zone 55."
   ]
  },
  {
   "cell_type": "code",
   "execution_count": 5,
   "id": "75fb6a8a-05d6-449f-854b-adfb06bd99f1",
   "metadata": {},
   "outputs": [],
   "source": [
    "transformer = Transformer.from_crs(\"EPSG:28355\", \"EPSG:4283\")"
   ]
  },
  {
   "cell_type": "markdown",
   "id": "756db5ff-b951-43ab-9802-57c2844f9c86",
   "metadata": {},
   "source": [
    "- Point 1 (Smeaton)"
   ]
  },
  {
   "cell_type": "code",
   "execution_count": 6,
   "id": "4f7f27bc-cbf2-474f-97da-6eb8f82ac54e",
   "metadata": {},
   "outputs": [
    {
     "data": {
      "text/html": [
       "<pre style=\"white-space:pre;overflow-x:auto;line-height:normal;font-family:Menlo,'DejaVu Sans Mono',consolas,'Courier New',monospace\">┌───────────────────────────┬─────────────────┐\n",
       "│ Latitude of Smeaton (p1)  │ -37°17'49.7306\" │\n",
       "├───────────────────────────┼─────────────────┤\n",
       "│ Longitude of Smeaton (p1) │ 143°59'3.1691\"  │\n",
       "└───────────────────────────┴─────────────────┘\n",
       "</pre>\n"
      ],
      "text/plain": [
       "┌───────────────────────────┬─────────────────┐\n",
       "│ Latitude of Smeaton (p1)  │ -37°17'49.7306\" │\n",
       "├───────────────────────────┼─────────────────┤\n",
       "│ Longitude of Smeaton (p1) │ 143°59'3.1691\"  │\n",
       "└───────────────────────────┴─────────────────┘\n"
      ]
     },
     "metadata": {},
     "output_type": "display_data"
    }
   ],
   "source": [
    "lat_p1,lon_p1 = transformer.transform(E_p1,N_p1)\n",
    "\n",
    "\n",
    "console = Console()\n",
    "table = Table(show_header=False, show_lines=True)\n",
    "degrees, minutes, seconds = decimal_to_dms(lat_p1)\n",
    "\n",
    "table.add_row(\n",
    "    \"Latitude of Smeaton (p1)\",str(degrees)+\"°\"+str(minutes)+\"'\"+str(seconds)+\"\\\"\"\n",
    ")\n",
    "degrees, minutes, seconds = decimal_to_dms(lon_p1)\n",
    "table.add_row(\n",
    "    \"Longitude of Smeaton (p1)\",str(degrees)+\"°\"+str(minutes)+\"'\"+str(seconds)+\"\\\"\"\n",
    ")\n",
    "console.print(table)"
   ]
  },
  {
   "cell_type": "markdown",
   "id": "4b3f3b48-ae3c-4804-9eed-ce31836d0d23",
   "metadata": {},
   "source": [
    "- Point 2 (Buninyoung)"
   ]
  },
  {
   "cell_type": "code",
   "execution_count": 7,
   "id": "b200e866-00e3-48ed-813e-51e5961c70b7",
   "metadata": {},
   "outputs": [
    {
     "data": {
      "text/html": [
       "<pre style=\"white-space:pre;overflow-x:auto;line-height:normal;font-family:Menlo,'DejaVu Sans Mono',consolas,'Courier New',monospace\">┌──────────────────────────────┬─────────────────┐\n",
       "│ Latitude of Buninyoung (p2)  │ -37°39'10.1563\" │\n",
       "├──────────────────────────────┼─────────────────┤\n",
       "│ Longitude of Buninyoung (p2) │ 143°55'35.3835\" │\n",
       "└──────────────────────────────┴─────────────────┘\n",
       "</pre>\n"
      ],
      "text/plain": [
       "┌──────────────────────────────┬─────────────────┐\n",
       "│ Latitude of Buninyoung (p2)  │ -37°39'10.1563\" │\n",
       "├──────────────────────────────┼─────────────────┤\n",
       "│ Longitude of Buninyoung (p2) │ 143°55'35.3835\" │\n",
       "└──────────────────────────────┴─────────────────┘\n"
      ]
     },
     "metadata": {},
     "output_type": "display_data"
    }
   ],
   "source": [
    "lat_p2,lon_p2 = transformer.transform(E_p2,N_p2)\n",
    "\n",
    "\n",
    "console = Console()\n",
    "table = Table(show_header=False, show_lines=True)\n",
    "degrees, minutes, seconds = decimal_to_dms(lat_p2)\n",
    "table.add_row(\n",
    "    \"Latitude of Buninyoung (p2)\",str(degrees)+\"°\"+str(minutes)+\"'\"+str(seconds)+\"\\\"\"\n",
    ")\n",
    "degrees, minutes, seconds = decimal_to_dms(lon_p2)\n",
    "table.add_row(\n",
    "    \"Longitude of Buninyoung (p2)\",str(degrees)+\"°\"+str(minutes)+\"'\"+str(seconds)+\"\\\"\"\n",
    ")\n",
    "console.print(table)"
   ]
  },
  {
   "cell_type": "markdown",
   "id": "3078a92f-da35-4de6-a684-c3b4ce097c42",
   "metadata": {},
   "source": [
    "Now, we calculate the grid convergence $\\gamma$ and the Point Scale Factor $k$ should also be\n",
    "noted. The grid convergence is not used in these calculations but is computed (note that in Australia $\\gamma$ is positive when grid north is west of true north, negative when grid north is east of true north)."
   ]
  },
  {
   "cell_type": "code",
   "execution_count": 8,
   "id": "c49c5524-6617-4c29-beb1-15d34a27d9ac",
   "metadata": {},
   "outputs": [
    {
     "data": {
      "text/html": [
       "<pre style=\"white-space:pre;overflow-x:auto;line-height:normal;font-family:Menlo,'DejaVu Sans Mono',consolas,'Courier New',monospace\">┌───────────────────────────────────────┬────────────────┐\n",
       "│ The meridian convergence at Buninyong │ -1°52'43.2188\" │\n",
       "└───────────────────────────────────────┴────────────────┘\n",
       "</pre>\n"
      ],
      "text/plain": [
       "┌───────────────────────────────────────┬────────────────┐\n",
       "│ The meridian convergence at Buninyong │ -1°52'43.2188\" │\n",
       "└───────────────────────────────────────┴────────────────┘\n"
      ]
     },
     "metadata": {},
     "output_type": "display_data"
    }
   ],
   "source": [
    "crs_au = pyproj.CRS(\"EPSG:28355\")\n",
    "p = pyproj.Proj(crs_au)\n",
    "gamma = -1*p.get_factors(lon_p2, lat_p2, False, True).meridian_convergence\n",
    "\n",
    "degrees, minutes, seconds = decimal_to_dms(gamma)\n",
    "console = Console()\n",
    "table = Table(show_header=False, show_lines=True)\n",
    "table.add_row(\n",
    "    \"The meridian convergence at Buninyong\",str(degrees)+\"°\"+str(minutes)+\"'\"+str(seconds)+\"\\\"\"\n",
    ")\n",
    "console.print(table)"
   ]
  },
  {
   "cell_type": "markdown",
   "id": "a1ac6cbf-fe43-497a-82ab-33d2a9abbcc5",
   "metadata": {},
   "source": [
    "The Point Scale Factor $k$ of the instrument station is used as a first approximation of the Line Scale Factor for the line Buninyong–Flinders Peak."
   ]
  },
  {
   "cell_type": "code",
   "execution_count": 9,
   "id": "48fd2e6d-90db-4415-80fa-c988f027fb60",
   "metadata": {},
   "outputs": [
    {
     "data": {
      "text/html": [
       "<pre style=\"white-space:pre;overflow-x:auto;line-height:normal;font-family:Menlo,'DejaVu Sans Mono',consolas,'Courier New',monospace\">┌────────────────────────┬────────────────────┐\n",
       "│ The point scale factor │ 1.0005056691590897 │\n",
       "└────────────────────────┴────────────────────┘\n",
       "</pre>\n"
      ],
      "text/plain": [
       "┌────────────────────────┬────────────────────┐\n",
       "│ The point scale factor │ 1.0005056691590897 │\n",
       "└────────────────────────┴────────────────────┘\n"
      ]
     },
     "metadata": {},
     "output_type": "display_data"
    }
   ],
   "source": [
    "k = p.get_factors(lon_p2, lat_p2, False, True).parallel_scale\n",
    "\n",
    "console = Console()\n",
    "table = Table(show_header=False, show_lines=True)\n",
    "table.add_row(\n",
    "    \"The point scale factor\",str(k)\n",
    ")\n",
    "console.print(table)"
   ]
  },
  {
   "attachments": {},
   "cell_type": "markdown",
   "id": "eec21e8f-3fb9-4ec7-8a53-660f6aa03ac4",
   "metadata": {},
   "source": [
    "The arc-to-chord correction $\\delta_{12}$ is small angle between the tangent to the projected geodesic at P1 and the straight line\n",
    "joining P1 and P2.\n",
    "\n",
    "$$\n",
    "\\delta_{12} = -\\frac{(N_2 - N_1)(E_2' + 2E_1')}{6r_m^2} \\left\\{ 1 - \\frac{(E_2' + 2E_1')^2}{27r_m^2} \\right\\}\n",
    "$$\n",
    "\n",
    "where $r_m^2 = \\rho\\nu k_0^2$ and $\\rho,\\nu$ are computed for $\\phi_m = (\\phi_1 + \\phi_2 )/2$. We first calculate the radii of curvature $\\rho$ and $\\nu$"
   ]
  },
  {
   "cell_type": "code",
   "execution_count": 10,
   "id": "3b643638-6cbd-46e1-a8ae-238847a53267",
   "metadata": {},
   "outputs": [],
   "source": [
    "def radii_of_curvature(lat):\n",
    "    \"\"\"\n",
    "    Returns the radii of curvature along the meridional and prime\n",
    "    vertical normal sections.\n",
    "    \"\"\"\n",
    "    # GRS80 Ellipsoid\n",
    "    a = 6378137\n",
    "    f = 1/298.257222101\n",
    "    e = np.sqrt(f*(2-f))\n",
    "    lat = np.radians(lat)\n",
    "    f1 = a * (1 - e ** 2)\n",
    "    f2 = 1 - (e * np.sin(lat)) ** 2\n",
    "    rho =  f1 / np.sqrt(f2 ** 3)\n",
    "    nu = a / np.sqrt(1 - (e * np.sin(lat)) ** 2)\n",
    "    return rho, nu"
   ]
  },
  {
   "cell_type": "code",
   "execution_count": 11,
   "id": "0db81e9f-2483-4a68-8a43-db602be3c7af",
   "metadata": {},
   "outputs": [
    {
     "data": {
      "text/html": [
       "<pre style=\"white-space:pre;overflow-x:auto;line-height:normal;font-family:Menlo,'DejaVu Sans Mono',consolas,'Courier New',monospace\">┌───────────────────┬─────────────────┐\n",
       "│ The mean latitude │ -37°28'29.9435\" │\n",
       "└───────────────────┴─────────────────┘\n",
       "</pre>\n"
      ],
      "text/plain": [
       "┌───────────────────┬─────────────────┐\n",
       "│ The mean latitude │ -37°28'29.9435\" │\n",
       "└───────────────────┴─────────────────┘\n"
      ]
     },
     "metadata": {},
     "output_type": "display_data"
    }
   ],
   "source": [
    "# The mean latitude \n",
    "phi_m = (lat_p1 + lat_p2)/2\n",
    "degrees, minutes, seconds = decimal_to_dms(phi_m)\n",
    "console = Console()\n",
    "table = Table(show_header=False, show_lines=True)\n",
    "table.add_row(\n",
    "    \"The mean latitude\",str(degrees)+\"°\"+str(minutes)+\"'\"+str(seconds)+\"\\\"\"\n",
    ")\n",
    "console.print(table)"
   ]
  },
  {
   "cell_type": "code",
   "execution_count": 12,
   "id": "e2f47296-0640-4c6d-9003-3bb59857536c",
   "metadata": {},
   "outputs": [
    {
     "data": {
      "text/html": [
       "<pre style=\"white-space:pre;overflow-x:auto;line-height:normal;font-family:Menlo,'DejaVu Sans Mono',consolas,'Courier New',monospace\">┌────────────────────────────────────────────────────┬───────────────────┐\n",
       "│ The radius of curvature in the meridian (rho)      │ 6359061.792897441 │\n",
       "├────────────────────────────────────────────────────┼───────────────────┤\n",
       "│ The radius of curvature in the prime vertical (nu) │ 6386054.390931205 │\n",
       "└────────────────────────────────────────────────────┴───────────────────┘\n",
       "</pre>\n"
      ],
      "text/plain": [
       "┌────────────────────────────────────────────────────┬───────────────────┐\n",
       "│ The radius of curvature in the meridian (rho)      │ 6359061.792897441 │\n",
       "├────────────────────────────────────────────────────┼───────────────────┤\n",
       "│ The radius of curvature in the prime vertical (nu) │ 6386054.390931205 │\n",
       "└────────────────────────────────────────────────────┴───────────────────┘\n"
      ]
     },
     "metadata": {},
     "output_type": "display_data"
    }
   ],
   "source": [
    "rho,nu = radii_of_curvature(phi_m)\n",
    "console = Console()\n",
    "table = Table(show_header=False, show_lines=True)\n",
    "table.add_row(\n",
    "    \"The radius of curvature in the meridian (rho)\",str(rho)\n",
    ")\n",
    "table.add_row(\n",
    "    \"The radius of curvature in the prime vertical (nu)\",str(nu)\n",
    ")\n",
    "console.print(table)"
   ]
  },
  {
   "cell_type": "code",
   "execution_count": 13,
   "id": "81640f6a-1c1b-4484-80c4-693e72f6dd5f",
   "metadata": {},
   "outputs": [
    {
     "data": {
      "text/html": [
       "<pre style=\"white-space:pre;overflow-x:auto;line-height:normal;font-family:Menlo,'DejaVu Sans Mono',consolas,'Courier New',monospace\">┌──────────────────┬───────────────────┐\n",
       "│ The mean radius  │ 6369994.782622517 │\n",
       "└──────────────────┴───────────────────┘\n",
       "</pre>\n"
      ],
      "text/plain": [
       "┌──────────────────┬───────────────────┐\n",
       "│ The mean radius  │ 6369994.782622517 │\n",
       "└──────────────────┴───────────────────┘\n"
      ]
     },
     "metadata": {},
     "output_type": "display_data"
    }
   ],
   "source": [
    "# scale at the central meridian\n",
    "k0 = 0.9996\n",
    "# mean radius rm\n",
    "rm = np.sqrt(rho*nu)*k0\n",
    "\n",
    "console = Console()\n",
    "table = Table(show_header=False, show_lines=True)\n",
    "table.add_row(\n",
    "    \"The mean radius \",str(rm)\n",
    ")\n",
    "console.print(table)"
   ]
  },
  {
   "cell_type": "markdown",
   "id": "55ca8d2b-0836-476d-b1ed-41b6dcae5e4c",
   "metadata": {},
   "source": [
    "Calculate the arc-to-chord correction at Buninyong for the line Buninyong–Smeaton\n",
    "using the equation above. "
   ]
  },
  {
   "cell_type": "code",
   "execution_count": 14,
   "id": "00bb8cf9-0ed6-4d78-924c-f14371e965d1",
   "metadata": {},
   "outputs": [],
   "source": [
    "def false_EN(E,N):\n",
    "    Ep = E-500000\n",
    "    Np = N-10000000\n",
    "    return Ep,Np"
   ]
  },
  {
   "cell_type": "code",
   "execution_count": 15,
   "id": "59c66b89-2173-4d3d-89a8-f4a5845a07ff",
   "metadata": {},
   "outputs": [],
   "source": [
    "E1p,N1p = false_EN(E_p1,N_p1) \n",
    "E2p,N2p = false_EN(E_p2,N_p2) \n",
    "\n",
    "delta_12 = -((N_p1-N_p2)*(E1p+2*E2p)/(6*rm**2)) * (1-((E1p+2*E2p)**2/(27*rm**2)))"
   ]
  },
  {
   "cell_type": "code",
   "execution_count": 16,
   "id": "0ca6d378-f706-4f41-b3c7-5f88e4fc69bc",
   "metadata": {},
   "outputs": [
    {
     "data": {
      "text/html": [
       "<pre style=\"white-space:pre;overflow-x:auto;line-height:normal;font-family:Menlo,'DejaVu Sans Mono',consolas,'Courier New',monospace\">┌──────────────────────────────┬──────────────┐\n",
       "│ The arc-to-chord correction  │ 0°0'27.1728\" │\n",
       "└──────────────────────────────┴──────────────┘\n",
       "</pre>\n"
      ],
      "text/plain": [
       "┌──────────────────────────────┬──────────────┐\n",
       "│ The arc-to-chord correction  │ 0°0'27.1728\" │\n",
       "└──────────────────────────────┴──────────────┘\n"
      ]
     },
     "metadata": {},
     "output_type": "display_data"
    }
   ],
   "source": [
    "degrees, minutes, seconds = decimal_to_dms(np.rad2deg(delta_12))\n",
    "console = Console()\n",
    "table = Table(show_header=False, show_lines=True)\n",
    "table.add_row(\n",
    "    \"The arc-to-chord correction \",str(degrees)+\"°\"+str(minutes)+\"'\"+str(seconds)+\"\\\"\"\n",
    ")\n",
    "console.print(table)"
   ]
  },
  {
   "cell_type": "markdown",
   "id": "179a2ae9-96a4-4528-81d0-38180151e93a",
   "metadata": {},
   "source": [
    "#### STEP 3 Compute the grid bearing $\\beta$ of the back-sight line Buninyong–Smeaton.\n",
    "The grid bearing of the line Buninyong–Smeaton is given by\n",
    "\n",
    "$$\n",
    "\\beta = \\theta - \\delta \n",
    "$$"
   ]
  },
  {
   "cell_type": "code",
   "execution_count": 17,
   "id": "43f61029-d546-4f8c-a0d4-35488781037b",
   "metadata": {},
   "outputs": [
    {
     "data": {
      "text/html": [
       "<pre style=\"white-space:pre;overflow-x:auto;line-height:normal;font-family:Menlo,'DejaVu Sans Mono',consolas,'Courier New',monospace\">┌─────────────────────────────────────────────────┬───────────────┐\n",
       "│ The grid bearing of the line Buninyong–Smeaton  │ 5°30'29.8192\" │\n",
       "└─────────────────────────────────────────────────┴───────────────┘\n",
       "</pre>\n"
      ],
      "text/plain": [
       "┌─────────────────────────────────────────────────┬───────────────┐\n",
       "│ The grid bearing of the line Buninyong–Smeaton  │ 5°30'29.8192\" │\n",
       "└─────────────────────────────────────────────────┴───────────────┘\n"
      ]
     },
     "metadata": {},
     "output_type": "display_data"
    }
   ],
   "source": [
    "beta = theta_Buninyoung_Smeaton - delta_12\n",
    "degrees, minutes, seconds = decimal_to_dms(np.rad2deg(beta))\n",
    "console = Console()\n",
    "table = Table(show_header=False, show_lines=True)\n",
    "table.add_row(\n",
    "    \"The grid bearing of the line Buninyong–Smeaton \",str(degrees)+\"°\"+str(minutes)+\"'\"+str(seconds)+\"\\\"\"\n",
    ")\n",
    "console.print(table)"
   ]
  },
  {
   "cell_type": "markdown",
   "id": "cdc03548-d47c-498a-a455-7c7fa5435083",
   "metadata": {},
   "source": [
    "#### STEP 4 Compute the grid bearing $\\beta$ of the forward-sight line Buninyong–Flinders Peak.\n",
    "\n",
    "The grid bearing of the forward-sight is equal to the grid bearing of the back-sight plus the geodesic angle at the instrument point."
   ]
  },
  {
   "cell_type": "code",
   "execution_count": 18,
   "id": "439e2022-4e9e-4beb-9615-f16e86d429de",
   "metadata": {},
   "outputs": [
    {
     "data": {
      "text/html": [
       "<pre style=\"white-space:pre;overflow-x:auto;line-height:normal;font-family:Menlo,'DejaVu Sans Mono',consolas,'Courier New',monospace\">┌────────────────────────────────────────┬─────────────────┐\n",
       "│ The grid bearing of the forward-sight  │ 125°17'39.8792\" │\n",
       "└────────────────────────────────────────┴─────────────────┘\n",
       "</pre>\n"
      ],
      "text/plain": [
       "┌────────────────────────────────────────┬─────────────────┐\n",
       "│ The grid bearing of the forward-sight  │ 125°17'39.8792\" │\n",
       "└────────────────────────────────────────┴─────────────────┘\n"
      ]
     },
     "metadata": {},
     "output_type": "display_data"
    }
   ],
   "source": [
    "beta_back = np.degrees(beta) + (119+47/60+10.06/3600)\n",
    "degrees, minutes, seconds = decimal_to_dms(beta_back)\n",
    "console = Console()\n",
    "table = Table(show_header=False, show_lines=True)\n",
    "table.add_row(\n",
    "    \"The grid bearing of the forward-sight \",str(degrees)+\"°\"+str(minutes)+\"'\"+str(seconds)+\"\\\"\"\n",
    ")\n",
    "console.print(table)"
   ]
  },
  {
   "cell_type": "markdown",
   "id": "ed8968df-7227-42d7-aa31-74323951b4ba",
   "metadata": {},
   "source": [
    "#### STEP 5 Compute the MGA94 E,N coordinates of Flinders Peak.\n",
    "\n",
    "This step requires an iterative approach.\n",
    "\n",
    "The first iteration is made as follows:\n",
    "\n",
    "- (1a) The grid bearing of the line Buninyong–Flinders Peak is assumed to be the plane bearing $\\theta$.\n",
    "\n",
    "- (1b) The geodesic distance $s$ of the line Buninyong–Flinders Peak, multiplied by the Point Scale Factor $k$ at Buninyong, is assumed to be the plane distance $L$.\n",
    "\n",
    "- (1c) Using these approximations for $\\theta$ and $L$ and plane trigonometry, approximate coordinates of Flinders Peak are computed."
   ]
  },
  {
   "cell_type": "code",
   "execution_count": 19,
   "id": "cfb567ae-45fd-49be-842d-5ba761121186",
   "metadata": {},
   "outputs": [
    {
     "data": {
      "text/html": [
       "<pre style=\"white-space:pre;overflow-x:auto;line-height:normal;font-family:Menlo,'DejaVu Sans Mono',consolas,'Courier New',monospace\">┌───────────────────────────────────────────┐\n",
       "│ The plane distance L = 54999.958726426215 │\n",
       "└───────────────────────────────────────────┘\n",
       "</pre>\n"
      ],
      "text/plain": [
       "┌───────────────────────────────────────────┐\n",
       "│ The plane distance L = 54999.958726426215 │\n",
       "└───────────────────────────────────────────┘\n"
      ]
     },
     "metadata": {},
     "output_type": "display_data"
    }
   ],
   "source": [
    "# (1a)\n",
    "s = 54972.161\n",
    "L = k*s\n",
    "console = Console()\n",
    "table = Table(show_header=False, show_lines=True)\n",
    "table.add_row(\n",
    "    \"The plane distance L = \"+str(L)\n",
    ")\n",
    "console.print(table)"
   ]
  },
  {
   "cell_type": "code",
   "execution_count": 20,
   "id": "d1fa090d-a2e6-47a9-a538-a0b6485d9003",
   "metadata": {},
   "outputs": [
    {
     "data": {
      "text/html": [
       "<pre style=\"white-space:pre;overflow-x:auto;line-height:normal;font-family:Menlo,'DejaVu Sans Mono',consolas,'Courier New',monospace\">┌──────────────────────────────┬────────────────────┐\n",
       "│ The Easting of Flinder Peak  │ 273744.67472983047 │\n",
       "├──────────────────────────────┼────────────────────┤\n",
       "│ The Northing of Flinder Peak │ 5796481.266192957  │\n",
       "└──────────────────────────────┴────────────────────┘\n",
       "</pre>\n"
      ],
      "text/plain": [
       "┌──────────────────────────────┬────────────────────┐\n",
       "│ The Easting of Flinder Peak  │ 273744.67472983047 │\n",
       "├──────────────────────────────┼────────────────────┤\n",
       "│ The Northing of Flinder Peak │ 5796481.266192957  │\n",
       "└──────────────────────────────┴────────────────────┘\n"
      ]
     },
     "metadata": {},
     "output_type": "display_data"
    }
   ],
   "source": [
    "# forward problem (1b)\n",
    "theta_buninyoun_flinders = 125+17/60+39.88/3600\n",
    "E_p3 = E_p2 + L*np.sin(np.radians(theta_buninyoun_flinders))\n",
    "N_p3 = N_p2 + L*np.cos(np.radians(theta_buninyoun_flinders))\n",
    "\n",
    "console = Console()\n",
    "table = Table(show_header=False, show_lines=True)\n",
    "table.add_row(\n",
    "    \"The Easting of Flinder Peak\",str(E_p3)\n",
    ")\n",
    "table.add_row(\n",
    "    \"The Northing of Flinder Peak\",str(N_p3)\n",
    ")\n",
    "console.print(table)"
   ]
  },
  {
   "cell_type": "markdown",
   "id": "895e7f13-37f9-45ff-8853-8f1a83d37490",
   "metadata": {},
   "source": [
    "#### The second iteration is made as follows:\n",
    "\n",
    "- (2a) Convert the approximate grid coordinates of Flinders Peak to latitudes and longitudes using pyproj, calculate the mean latitude and the mean radius $r_m$ for the line Buninyong–Flinders Peak as per steps 2 above.\n",
    "\n",
    "- (2b) Compute the arc-to-chord correction $\\delta$ at Buninyong and the Line Scale Factor $k$ for the line Buninyong–Flinders Peak.\n",
    "\n",
    "- (2c) Compute new values for the plane bearing $\\theta = \\beta + \\delta$ and plane distance $L = k \\times s$ then use plane trigonometry to compute new approximations of the coordinates of Flinders Peak."
   ]
  },
  {
   "cell_type": "code",
   "execution_count": 21,
   "id": "13d86d3a-d40c-4655-8d6a-b448499acc3b",
   "metadata": {},
   "outputs": [
    {
     "data": {
      "text/html": [
       "<pre style=\"white-space:pre;overflow-x:auto;line-height:normal;font-family:Menlo,'DejaVu Sans Mono',consolas,'Courier New',monospace\">┌───────────────────────────┬────────────────┐\n",
       "│ Latitude of Smeaton (p3)  │ -37°57'3.9992\" │\n",
       "├───────────────────────────┼────────────────┤\n",
       "│ Longitude of Smeaton (p3) │ 144°25'29.653\" │\n",
       "└───────────────────────────┴────────────────┘\n",
       "</pre>\n"
      ],
      "text/plain": [
       "┌───────────────────────────┬────────────────┐\n",
       "│ Latitude of Smeaton (p3)  │ -37°57'3.9992\" │\n",
       "├───────────────────────────┼────────────────┤\n",
       "│ Longitude of Smeaton (p3) │ 144°25'29.653\" │\n",
       "└───────────────────────────┴────────────────┘\n"
      ]
     },
     "metadata": {},
     "output_type": "display_data"
    }
   ],
   "source": [
    "lat_p3,lon_p3 = transformer.transform(E_p3,N_p3)\n",
    "\n",
    "console = Console()\n",
    "table = Table(show_header=False, show_lines=True)\n",
    "degrees, minutes, seconds = decimal_to_dms(lat_p3)\n",
    "\n",
    "table.add_row(\n",
    "    \"Latitude of Smeaton (p3)\",str(degrees)+\"°\"+str(minutes)+\"'\"+str(seconds)+\"\\\"\"\n",
    ")\n",
    "degrees, minutes, seconds = decimal_to_dms(lon_p3)\n",
    "table.add_row(\n",
    "    \"Longitude of Smeaton (p3)\",str(degrees)+\"°\"+str(minutes)+\"'\"+str(seconds)+\"\\\"\"\n",
    ")\n",
    "console.print(table)"
   ]
  },
  {
   "cell_type": "markdown",
   "id": "cc1a4956-c54f-4a9c-a671-3f64112dcc5d",
   "metadata": {},
   "source": [
    "Approximate mean radius $r_m$ of the line Buninyong–Flinders Peak."
   ]
  },
  {
   "cell_type": "code",
   "execution_count": 22,
   "id": "6ac0e308-1d5e-4f56-a011-7cda73002874",
   "metadata": {},
   "outputs": [
    {
     "data": {
      "text/html": [
       "<pre style=\"white-space:pre;overflow-x:auto;line-height:normal;font-family:Menlo,'DejaVu Sans Mono',consolas,'Courier New',monospace\">┌───────────────────┬────────────────┐\n",
       "│ The mean latitude │ -37°48'7.0777\" │\n",
       "└───────────────────┴────────────────┘\n",
       "</pre>\n"
      ],
      "text/plain": [
       "┌───────────────────┬────────────────┐\n",
       "│ The mean latitude │ -37°48'7.0777\" │\n",
       "└───────────────────┴────────────────┘\n"
      ]
     },
     "metadata": {},
     "output_type": "display_data"
    },
    {
     "data": {
      "text/html": [
       "<pre style=\"white-space:pre;overflow-x:auto;line-height:normal;font-family:Menlo,'DejaVu Sans Mono',consolas,'Courier New',monospace\">┌────────────────────────────────────────────────────┬───────────────────┐\n",
       "│ The radius of curvature in the meridian (rho)      │ 6359415.131971106 │\n",
       "├────────────────────────────────────────────────────┼───────────────────┤\n",
       "│ The radius of curvature in the prime vertical (nu) │ 6386172.668376569 │\n",
       "└────────────────────────────────────────────────────┴───────────────────┘\n",
       "</pre>\n"
      ],
      "text/plain": [
       "┌────────────────────────────────────────────────────┬───────────────────┐\n",
       "│ The radius of curvature in the meridian (rho)      │ 6359415.131971106 │\n",
       "├────────────────────────────────────────────────────┼───────────────────┤\n",
       "│ The radius of curvature in the prime vertical (nu) │ 6386172.668376569 │\n",
       "└────────────────────────────────────────────────────┴───────────────────┘\n"
      ]
     },
     "metadata": {},
     "output_type": "display_data"
    },
    {
     "data": {
      "text/html": [
       "<pre style=\"white-space:pre;overflow-x:auto;line-height:normal;font-family:Menlo,'DejaVu Sans Mono',consolas,'Courier New',monospace\">┌──────────────────┬───────────────────┐\n",
       "│ The mean radius  │ 6370230.744811669 │\n",
       "└──────────────────┴───────────────────┘\n",
       "</pre>\n"
      ],
      "text/plain": [
       "┌──────────────────┬───────────────────┐\n",
       "│ The mean radius  │ 6370230.744811669 │\n",
       "└──────────────────┴───────────────────┘\n"
      ]
     },
     "metadata": {},
     "output_type": "display_data"
    }
   ],
   "source": [
    "# The mean latitude \n",
    "phi_m = (lat_p2 + lat_p3)/2\n",
    "degrees, minutes, seconds = decimal_to_dms(phi_m)\n",
    "console = Console()\n",
    "table = Table(show_header=False, show_lines=True)\n",
    "table.add_row(\n",
    "    \"The mean latitude\",str(degrees)+\"°\"+str(minutes)+\"'\"+str(seconds)+\"\\\"\"\n",
    ")\n",
    "console.print(table)\n",
    "\n",
    "\n",
    "# radii of curvature\n",
    "rho,nu = radii_of_curvature(phi_m)\n",
    "console = Console()\n",
    "table = Table(show_header=False, show_lines=True)\n",
    "table.add_row(\n",
    "    \"The radius of curvature in the meridian (rho)\",str(rho)\n",
    ")\n",
    "table.add_row(\n",
    "    \"The radius of curvature in the prime vertical (nu)\",str(nu)\n",
    ")\n",
    "console.print(table)\n",
    "\n",
    "\n",
    "# scale at the central meridian\n",
    "k0 = 0.9996\n",
    "# mean radius rm\n",
    "rm = np.sqrt(rho*nu)*k0\n",
    "\n",
    "console = Console()\n",
    "table = Table(show_header=False, show_lines=True)\n",
    "table.add_row(\n",
    "    \"The mean radius \",str(rm)\n",
    ")\n",
    "console.print(table)"
   ]
  },
  {
   "cell_type": "markdown",
   "id": "c2ad37d7-1891-4b58-89b1-dc414b66b863",
   "metadata": {},
   "source": [
    "First approximations of arc-to-chord correction and Line Scale Factor for the line Buninyong–Flinders Peak."
   ]
  },
  {
   "cell_type": "code",
   "execution_count": 23,
   "id": "07d526ce-2eec-4aa7-bb3e-9c4637ab5732",
   "metadata": {},
   "outputs": [
    {
     "data": {
      "text/html": [
       "<pre style=\"white-space:pre;overflow-x:auto;line-height:normal;font-family:Menlo,'DejaVu Sans Mono',consolas,'Courier New',monospace\">┌──────────────────────────────┬──────────────┐\n",
       "│ The arc-to-chord correction  │ 0°0'20.6787\" │\n",
       "└──────────────────────────────┴──────────────┘\n",
       "</pre>\n"
      ],
      "text/plain": [
       "┌──────────────────────────────┬──────────────┐\n",
       "│ The arc-to-chord correction  │ 0°0'20.6787\" │\n",
       "└──────────────────────────────┴──────────────┘\n"
      ]
     },
     "metadata": {},
     "output_type": "display_data"
    }
   ],
   "source": [
    "E3p,N3p = false_EN(E_p3,N_p3) \n",
    "E2p,N2p = false_EN(E_p2,N_p2) \n",
    "\n",
    "delta_32 = -((N_p3-N_p2)*(E3p+2*E2p)/(6*rm**2)) * (1-((E3p+2*E2p)**2/(27*rm**2)))\n",
    "\n",
    "degrees, minutes, seconds = decimal_to_dms(np.rad2deg(delta_32))\n",
    "console = Console()\n",
    "table = Table(show_header=False, show_lines=True)\n",
    "table.add_row(\n",
    "    \"The arc-to-chord correction \",str(degrees)+\"°\"+str(minutes)+\"'\"+str(seconds)+\"\\\"\"\n",
    ")\n",
    "console.print(table)"
   ]
  },
  {
   "cell_type": "markdown",
   "id": "eaa11701-15f5-40d9-91d5-f8913cdc44ad",
   "metadata": {},
   "source": [
    "The line scale factor (Buninyoung-Flinders) using the equation\n",
    "\n",
    "$$\n",
    "K = k_0 \\left[ 1 + \\frac{E_1^{2} + E_1' E_2' + E_2^{2}}{6 r_m^2} \\right] \\left\\{ 1 + \\frac{E_1^{2} + E_1' E_2' + E_2^{2}}{36 r_m^2} \\right\\}\n",
    "$$"
   ]
  },
  {
   "cell_type": "code",
   "execution_count": 24,
   "id": "337b0bfa-5816-4c10-82e4-de13c263ab83",
   "metadata": {},
   "outputs": [
    {
     "data": {
      "text/html": [
       "<pre style=\"white-space:pre;overflow-x:auto;line-height:normal;font-family:Menlo,'DejaVu Sans Mono',consolas,'Courier New',monospace\">┌───────────────────────────────────────────┬───────────────────┐\n",
       "│ The Buninyoung-Flinders line scale factor │ 1.000363963440815 │\n",
       "└───────────────────────────────────────────┴───────────────────┘\n",
       "</pre>\n"
      ],
      "text/plain": [
       "┌───────────────────────────────────────────┬───────────────────┐\n",
       "│ The Buninyoung-Flinders line scale factor │ 1.000363963440815 │\n",
       "└───────────────────────────────────────────┴───────────────────┘\n"
      ]
     },
     "metadata": {},
     "output_type": "display_data"
    }
   ],
   "source": [
    "k3 = p.get_factors(lon_p3, lat_p3, False, True).parallel_scale\n",
    "kl = k0*(  1+(((E3p**2+E3p*E2p+E2p**2)/(6*rm**2)))*(1+((E3p**2+E3p*E2p+E2p**2)/(36*rm**2)))  )\n",
    "\n",
    "console = Console()\n",
    "table = Table(show_header=False, show_lines=True)\n",
    "table.add_row(\n",
    "    \"The Buninyoung-Flinders line scale factor\",str(kl)\n",
    ")\n",
    "console.print(table)"
   ]
  },
  {
   "cell_type": "markdown",
   "id": "d514c622-9120-4cba-9f27-d125d8cc3d9c",
   "metadata": {},
   "source": [
    "Now, we do the second approximation of MGA94 coordinates of Flinders Peak."
   ]
  },
  {
   "cell_type": "code",
   "execution_count": 25,
   "id": "f3f1002f-0cc7-40c3-91b5-18eecb792308",
   "metadata": {},
   "outputs": [
    {
     "data": {
      "text/html": [
       "<pre style=\"white-space:pre;overflow-x:auto;line-height:normal;font-family:Menlo,'DejaVu Sans Mono',consolas,'Courier New',monospace\">┌───────────────────────────────────────────────────────────────┐\n",
       "│ The plane distance L (Buninyoung-Flinders) = 54992.1688568666 │\n",
       "└───────────────────────────────────────────────────────────────┘\n",
       "</pre>\n"
      ],
      "text/plain": [
       "┌───────────────────────────────────────────────────────────────┐\n",
       "│ The plane distance L (Buninyoung-Flinders) = 54992.1688568666 │\n",
       "└───────────────────────────────────────────────────────────────┘\n"
      ]
     },
     "metadata": {},
     "output_type": "display_data"
    }
   ],
   "source": [
    "s = 54972.161\n",
    "L = kl*s\n",
    "console = Console()\n",
    "table = Table(show_header=False, show_lines=True)\n",
    "table.add_row(\n",
    "    \"The plane distance L (Buninyoung-Flinders) = \"+str(L)\n",
    ")\n",
    "console.print(table)"
   ]
  },
  {
   "cell_type": "markdown",
   "id": "055bd108-3682-4be0-9000-69660e050f6e",
   "metadata": {},
   "source": [
    "we apply the arc-to-chord correction as $\\theta = \\beta + \\delta$ "
   ]
  },
  {
   "cell_type": "code",
   "execution_count": 26,
   "id": "4147d9d0-6988-4e05-bb36-3e8ed9e5f87c",
   "metadata": {},
   "outputs": [
    {
     "data": {
      "text/html": [
       "<pre style=\"white-space:pre;overflow-x:auto;line-height:normal;font-family:Menlo,'DejaVu Sans Mono',consolas,'Courier New',monospace\">┌──────────────────────────────┬───────────────────┐\n",
       "│ The Easting of Flinder Peak  │ 273741.5019574459 │\n",
       "├──────────────────────────────┼───────────────────┤\n",
       "│ The Northing of Flinder Peak │ 5796490.267138294 │\n",
       "└──────────────────────────────┴───────────────────┘\n",
       "</pre>\n"
      ],
      "text/plain": [
       "┌──────────────────────────────┬───────────────────┐\n",
       "│ The Easting of Flinder Peak  │ 273741.5019574459 │\n",
       "├──────────────────────────────┼───────────────────┤\n",
       "│ The Northing of Flinder Peak │ 5796490.267138294 │\n",
       "└──────────────────────────────┴───────────────────┘\n"
      ]
     },
     "metadata": {},
     "output_type": "display_data"
    }
   ],
   "source": [
    "# apply arc-to-chord correction\n",
    "beta_it2 = beta_back + np.degrees(delta_32)\n",
    "\n",
    "E_p3 = E_p2 + L*np.sin(np.radians(beta_it2))\n",
    "N_p3 = N_p2 + L*np.cos(np.radians(beta_it2))\n",
    "\n",
    "console = Console()\n",
    "table = Table(show_header=False, show_lines=True)\n",
    "table.add_row(\n",
    "    \"The Easting of Flinder Peak\",str(E_p3)\n",
    ")\n",
    "table.add_row(\n",
    "    \"The Northing of Flinder Peak\",str(N_p3)\n",
    ")\n",
    "console.print(table)"
   ]
  },
  {
   "cell_type": "markdown",
   "id": "b2d08f56-e2a5-42ab-a9b1-3b237a86859a",
   "metadata": {},
   "source": [
    "#### The third iteration is made as follows:\n",
    "\n",
    "- (3a) Compute the arc-to-chord correction $delta$ at Buninyong and the Line Scale Factor $L$ for the line Buninyong–Flinders Peak using equations (16) and (13). The mean radius $r_m$ computed in the second iteration can be used since its value, rounded to the nearest\n",
    "metre, will not change. It is likely that the Line Scale Factor will remain unchanged.\n",
    "\n",
    "- (3b) Compute new values for the plane bearing $\\theta = \\beta + \\delta$ and plane distance $L = K \\times s$ then use plane trigonometry to compute new approximations of the coordinates of Flinders Peak."
   ]
  },
  {
   "cell_type": "code",
   "execution_count": 27,
   "id": "918241a6-0746-4c9c-986d-f7a9611e66ab",
   "metadata": {},
   "outputs": [
    {
     "data": {
      "text/html": [
       "<pre style=\"white-space:pre;overflow-x:auto;line-height:normal;font-family:Menlo,'DejaVu Sans Mono',consolas,'Courier New',monospace\">┌───────────────────────────┬─────────────────┐\n",
       "│ Latitude of Smeaton (p3)  │ -37°57'3.7046\"  │\n",
       "├───────────────────────────┼─────────────────┤\n",
       "│ Longitude of Smeaton (p3) │ 144°25'29.5334\" │\n",
       "└───────────────────────────┴─────────────────┘\n",
       "</pre>\n"
      ],
      "text/plain": [
       "┌───────────────────────────┬─────────────────┐\n",
       "│ Latitude of Smeaton (p3)  │ -37°57'3.7046\"  │\n",
       "├───────────────────────────┼─────────────────┤\n",
       "│ Longitude of Smeaton (p3) │ 144°25'29.5334\" │\n",
       "└───────────────────────────┴─────────────────┘\n"
      ]
     },
     "metadata": {},
     "output_type": "display_data"
    }
   ],
   "source": [
    "lat_p3,lon_p3 = transformer.transform(E_p3,N_p3)\n",
    "\n",
    "console = Console()\n",
    "table = Table(show_header=False, show_lines=True)\n",
    "degrees, minutes, seconds = decimal_to_dms(lat_p3)\n",
    "\n",
    "table.add_row(\n",
    "    \"Latitude of Smeaton (p3)\",str(degrees)+\"°\"+str(minutes)+\"'\"+str(seconds)+\"\\\"\"\n",
    ")\n",
    "degrees, minutes, seconds = decimal_to_dms(lon_p3)\n",
    "table.add_row(\n",
    "    \"Longitude of Smeaton (p3)\",str(degrees)+\"°\"+str(minutes)+\"'\"+str(seconds)+\"\\\"\"\n",
    ")\n",
    "console.print(table)"
   ]
  },
  {
   "cell_type": "code",
   "execution_count": 28,
   "id": "7f1c8881-4990-4029-a1d3-2dc50209a166",
   "metadata": {},
   "outputs": [
    {
     "data": {
      "text/html": [
       "<pre style=\"white-space:pre;overflow-x:auto;line-height:normal;font-family:Menlo,'DejaVu Sans Mono',consolas,'Courier New',monospace\">┌───────────────────┬────────────────┐\n",
       "│ The mean latitude │ -37°48'6.9304\" │\n",
       "└───────────────────┴────────────────┘\n",
       "</pre>\n"
      ],
      "text/plain": [
       "┌───────────────────┬────────────────┐\n",
       "│ The mean latitude │ -37°48'6.9304\" │\n",
       "└───────────────────┴────────────────┘\n"
      ]
     },
     "metadata": {},
     "output_type": "display_data"
    },
    {
     "data": {
      "text/html": [
       "<pre style=\"white-space:pre;overflow-x:auto;line-height:normal;font-family:Menlo,'DejaVu Sans Mono',consolas,'Courier New',monospace\">┌────────────────────────────────────────────────────┬───────────────────┐\n",
       "│ The radius of curvature in the meridian (rho)      │ 6359415.087688381 │\n",
       "├────────────────────────────────────────────────────┼───────────────────┤\n",
       "│ The radius of curvature in the prime vertical (nu) │ 6386172.653553554 │\n",
       "└────────────────────────────────────────────────────┴───────────────────┘\n",
       "</pre>\n"
      ],
      "text/plain": [
       "┌────────────────────────────────────────────────────┬───────────────────┐\n",
       "│ The radius of curvature in the meridian (rho)      │ 6359415.087688381 │\n",
       "├────────────────────────────────────────────────────┼───────────────────┤\n",
       "│ The radius of curvature in the prime vertical (nu) │ 6386172.653553554 │\n",
       "└────────────────────────────────────────────────────┴───────────────────┘\n"
      ]
     },
     "metadata": {},
     "output_type": "display_data"
    },
    {
     "data": {
      "text/html": [
       "<pre style=\"white-space:pre;overflow-x:auto;line-height:normal;font-family:Menlo,'DejaVu Sans Mono',consolas,'Courier New',monospace\">┌──────────────────┬───────────────────┐\n",
       "│ The mean radius  │ 6370230.715239644 │\n",
       "└──────────────────┴───────────────────┘\n",
       "</pre>\n"
      ],
      "text/plain": [
       "┌──────────────────┬───────────────────┐\n",
       "│ The mean radius  │ 6370230.715239644 │\n",
       "└──────────────────┴───────────────────┘\n"
      ]
     },
     "metadata": {},
     "output_type": "display_data"
    }
   ],
   "source": [
    "# The mean latitude \n",
    "phi_m = (lat_p2 + lat_p3)/2\n",
    "degrees, minutes, seconds = decimal_to_dms(phi_m)\n",
    "console = Console()\n",
    "table = Table(show_header=False, show_lines=True)\n",
    "table.add_row(\n",
    "    \"The mean latitude\",str(degrees)+\"°\"+str(minutes)+\"'\"+str(seconds)+\"\\\"\"\n",
    ")\n",
    "console.print(table)\n",
    "\n",
    "\n",
    "# radii of curvature\n",
    "rho,nu = radii_of_curvature(phi_m)\n",
    "console = Console()\n",
    "table = Table(show_header=False, show_lines=True)\n",
    "table.add_row(\n",
    "    \"The radius of curvature in the meridian (rho)\",str(rho)\n",
    ")\n",
    "table.add_row(\n",
    "    \"The radius of curvature in the prime vertical (nu)\",str(nu)\n",
    ")\n",
    "console.print(table)\n",
    "\n",
    "\n",
    "# scale at the central meridian\n",
    "k0 = 0.9996\n",
    "# mean radius rm\n",
    "rm = np.sqrt(rho*nu)*k0\n",
    "\n",
    "console = Console()\n",
    "table = Table(show_header=False, show_lines=True)\n",
    "table.add_row(\n",
    "    \"The mean radius \",str(rm)\n",
    ")\n",
    "console.print(table)"
   ]
  },
  {
   "cell_type": "code",
   "execution_count": 29,
   "id": "ab6c931b-2194-49e4-b87f-f0d1c68d8e43",
   "metadata": {},
   "outputs": [
    {
     "data": {
      "text/html": [
       "<pre style=\"white-space:pre;overflow-x:auto;line-height:normal;font-family:Menlo,'DejaVu Sans Mono',consolas,'Courier New',monospace\">┌──────────────────────────────┬──────────────┐\n",
       "│ The arc-to-chord correction  │ 0°0'20.6729\" │\n",
       "└──────────────────────────────┴──────────────┘\n",
       "</pre>\n"
      ],
      "text/plain": [
       "┌──────────────────────────────┬──────────────┐\n",
       "│ The arc-to-chord correction  │ 0°0'20.6729\" │\n",
       "└──────────────────────────────┴──────────────┘\n"
      ]
     },
     "metadata": {},
     "output_type": "display_data"
    }
   ],
   "source": [
    "E3p,N3p = false_EN(E_p3,N_p3) \n",
    "E2p,N2p = false_EN(E_p2,N_p2) \n",
    "\n",
    "delta_32 = -((N_p3-N_p2)*(E3p+2*E2p)/(6*rm**2)) * (1-((E3p+2*E2p)**2/(27*rm**2)))\n",
    "\n",
    "degrees, minutes, seconds = decimal_to_dms(np.rad2deg(delta_32))\n",
    "console = Console()\n",
    "table = Table(show_header=False, show_lines=True)\n",
    "table.add_row(\n",
    "    \"The arc-to-chord correction \",str(degrees)+\"°\"+str(minutes)+\"'\"+str(seconds)+\"\\\"\"\n",
    ")\n",
    "console.print(table)"
   ]
  },
  {
   "cell_type": "code",
   "execution_count": 30,
   "id": "86784c5d-7826-429c-9b20-38b82aed9e3c",
   "metadata": {},
   "outputs": [
    {
     "data": {
      "text/html": [
       "<pre style=\"white-space:pre;overflow-x:auto;line-height:normal;font-family:Menlo,'DejaVu Sans Mono',consolas,'Courier New',monospace\">┌───────────────────────────────────────────┬────────────────────┐\n",
       "│ The Buninyoung-Flinders line scale factor │ 1.0003639728765397 │\n",
       "└───────────────────────────────────────────┴────────────────────┘\n",
       "</pre>\n"
      ],
      "text/plain": [
       "┌───────────────────────────────────────────┬────────────────────┐\n",
       "│ The Buninyoung-Flinders line scale factor │ 1.0003639728765397 │\n",
       "└───────────────────────────────────────────┴────────────────────┘\n"
      ]
     },
     "metadata": {},
     "output_type": "display_data"
    }
   ],
   "source": [
    "k3 = p.get_factors(lon_p3, lat_p3, False, True).parallel_scale\n",
    "kl = k0*(  1+(((E3p**2+E3p*E2p+E2p**2)/(6*rm**2)))*(1+((E3p**2+E3p*E2p+E2p**2)/(36*rm**2)))  )\n",
    "\n",
    "console = Console()\n",
    "table = Table(show_header=False, show_lines=True)\n",
    "table.add_row(\n",
    "    \"The Buninyoung-Flinders line scale factor\",str(kl)\n",
    ")\n",
    "console.print(table)"
   ]
  },
  {
   "cell_type": "code",
   "execution_count": 31,
   "id": "9df1cf5d-fe6d-47bf-8116-ab3b5fa8e749",
   "metadata": {},
   "outputs": [
    {
     "data": {
      "text/html": [
       "<pre style=\"white-space:pre;overflow-x:auto;line-height:normal;font-family:Menlo,'DejaVu Sans Mono',consolas,'Courier New',monospace\">┌─────────────────────────────────────────────────────────────────┐\n",
       "│ The plane distance L (Buninyoung-Flinders) = 54992.169375568774 │\n",
       "└─────────────────────────────────────────────────────────────────┘\n",
       "</pre>\n"
      ],
      "text/plain": [
       "┌─────────────────────────────────────────────────────────────────┐\n",
       "│ The plane distance L (Buninyoung-Flinders) = 54992.169375568774 │\n",
       "└─────────────────────────────────────────────────────────────────┘\n"
      ]
     },
     "metadata": {},
     "output_type": "display_data"
    }
   ],
   "source": [
    "s = 54972.161\n",
    "L = kl*s\n",
    "console = Console()\n",
    "table = Table(show_header=False, show_lines=True)\n",
    "table.add_row(\n",
    "    \"The plane distance L (Buninyoung-Flinders) = \"+str(L)\n",
    ")\n",
    "console.print(table)"
   ]
  },
  {
   "cell_type": "code",
   "execution_count": 32,
   "id": "5eeae9bd-be32-4769-8d7b-e4074256feec",
   "metadata": {},
   "outputs": [
    {
     "data": {
      "text/html": [
       "<pre style=\"white-space:pre;overflow-x:auto;line-height:normal;font-family:Menlo,'DejaVu Sans Mono',consolas,'Courier New',monospace\">┌──────────────────────────────────────────────┬────────────────────┐\n",
       "│ The Easting of Flinder Peak - Final values   │ 273741.50149187946 │\n",
       "├──────────────────────────────────────────────┼────────────────────┤\n",
       "│ The Northing of Flinder Peak - Final values  │ 5796490.265582594  │\n",
       "└──────────────────────────────────────────────┴────────────────────┘\n",
       "</pre>\n"
      ],
      "text/plain": [
       "┌──────────────────────────────────────────────┬────────────────────┐\n",
       "│ The Easting of Flinder Peak - Final values   │ 273741.50149187946 │\n",
       "├──────────────────────────────────────────────┼────────────────────┤\n",
       "│ The Northing of Flinder Peak - Final values  │ 5796490.265582594  │\n",
       "└──────────────────────────────────────────────┴────────────────────┘\n"
      ]
     },
     "metadata": {},
     "output_type": "display_data"
    }
   ],
   "source": [
    "# apply arc-to-chord correction\n",
    "beta_it2 = beta_back + np.degrees(delta_32)\n",
    "\n",
    "E_p3 = E_p2 + L*np.sin(np.radians(beta_it2))\n",
    "N_p3 = N_p2 + L*np.cos(np.radians(beta_it2))\n",
    "\n",
    "console = Console()\n",
    "table = Table(show_header=False, show_lines=True)\n",
    "table.add_row(\n",
    "    \"The Easting of Flinder Peak - Final values\",str(E_p3)\n",
    ")\n",
    "table.add_row(\n",
    "    \"The Northing of Flinder Peak - Final values \",str(N_p3)\n",
    ")\n",
    "console.print(table)"
   ]
  },
  {
   "cell_type": "markdown",
   "id": "c6b5eef8-c2aa-4545-b182-f9e0383281ab",
   "metadata": {},
   "source": [
    "The MGA94 $E,N$ coordinates of Flinders Peak from the third iteration (Table above) can be\n",
    "regarded as \"exact\" since there has been only 1-2 mm changes between the second and third\n",
    "iterations."
   ]
  },
  {
   "cell_type": "markdown",
   "id": "32fb4567-722a-4ad7-af84-d1238555ed6b",
   "metadata": {},
   "source": [
    "## Homework\n",
    "\n",
    "Calculate the line 2: Flinders Peak–Bellarine\n",
    "with computed values of relevant plane bearings ($\\theta$) , arc-to-chord corrections ($\\delta$) , grid\n",
    "bearings ($\\beta$) , geodesic distance ($s$) , line scale factor ($K$) , plane distance ($L$) and computed\n",
    "coordinates ($E,N$) of Bellarine.\n",
    "\n",
    "![](![](./https://github.com/koulali/ceg2707/blob/main/Trav_Comp_V2.1_fig3.png?raw=true))"
   ]
  },
  {
   "cell_type": "code",
   "execution_count": null,
   "id": "16371853-4913-481d-b1e5-388d6eb2454f",
   "metadata": {},
   "outputs": [],
   "source": []
  }
 ],
 "metadata": {
  "kernelspec": {
   "display_name": "Python 3 (ipykernel)",
   "language": "python",
   "name": "python3"
  },
  "language_info": {
   "codemirror_mode": {
    "name": "ipython",
    "version": 3
   },
   "file_extension": ".py",
   "mimetype": "text/x-python",
   "name": "python",
   "nbconvert_exporter": "python",
   "pygments_lexer": "ipython3",
   "version": "3.12.8"
  }
 },
 "nbformat": 4,
 "nbformat_minor": 5
}
