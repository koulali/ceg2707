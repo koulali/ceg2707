{
 "cells": [
  {
   "cell_type": "markdown",
   "id": "f9d47017",
   "metadata": {},
   "source": [
    "![test](ceg1705_logo_notebook.png)\n",
    "\n",
    "# Practical 2: Map projection computations and coordinate transformations"
   ]
  },
  {
   "cell_type": "markdown",
   "id": "7e0dda6f",
   "metadata": {},
   "source": [
    "## Part 1. Computations in the Ordnance Survey National Grid\n",
    "\n",
    "*Point 1 has the following geodetic coordinates:*\n",
    "\n",
    "$$\n",
    "\\varphi_{1}=52^\\circ 30^\\prime 45^{\\prime\\prime} \\, \\textrm{N},\\\\\n",
    "\\lambda_{1}=1^\\circ 00^\\prime 30^{\\prime\\prime} \\, \\textrm{W},\n",
    "$$\n",
    "\n",
    "whereas point 2 has the geodetic coordinates\n",
    "\n",
    "$$\n",
    "\\varphi_{2}=52^\\circ \\textrm{MM}^\\prime 37.25981^{\\prime\\prime} \\, \\textrm{N},\\\\\n",
    "\\lambda_{2}=2^\\circ 17^\\prime \\textrm{DD}.47629^{\\prime\\prime}  \\, \\textrm{W}. \n",
    "$$\n",
    "\n",
    "where DD is your day of birth and MM is your month of birth (e.g. for 23 June DD = 23 and MM = 06). Both positions are expressed on the Airy 1830 ellipsoid defined in the sheet \"Constants\" of the spreadsheet by its semi-major axis and its semi-minor axis.\n",
    "\n",
    "The following cell loads the modules and utilities you need for completing the practical"
   ]
  },
  {
   "cell_type": "code",
   "execution_count": 1,
   "id": "17149c01",
   "metadata": {},
   "outputs": [],
   "source": [
    "# try:\n",
    "#     import pyproj\n",
    "# except ImportError:\n",
    "#     %pip install -q pyproj"
   ]
  },
  {
   "cell_type": "code",
   "execution_count": 1,
   "id": "2bcd61c2",
   "metadata": {},
   "outputs": [
    {
     "ename": "ModuleNotFoundError",
     "evalue": "No module named 'pyproj'",
     "output_type": "error",
     "traceback": [
      "\u001b[0;31m---------------------------------------------------------------------------\u001b[0m",
      "\u001b[0;31mModuleNotFoundError\u001b[0m                       Traceback (most recent call last)",
      "Cell \u001b[0;32mIn[1], line 1\u001b[0m\n\u001b[0;32m----> 1\u001b[0m \u001b[38;5;28;01mfrom\u001b[39;00m \u001b[38;5;21;01mpyproj\u001b[39;00m \u001b[38;5;28;01mimport\u001b[39;00m Proj\n\u001b[1;32m      2\u001b[0m \u001b[38;5;28;01mimport\u001b[39;00m \u001b[38;5;21;01mnumpy\u001b[39;00m \u001b[38;5;28;01mas\u001b[39;00m \u001b[38;5;21;01mnp\u001b[39;00m\n\u001b[1;32m      3\u001b[0m \u001b[38;5;28;01mimport\u001b[39;00m \u001b[38;5;21;01mpycegm\u001b[39;00m\n",
      "\u001b[0;31mModuleNotFoundError\u001b[0m: No module named 'pyproj'"
     ]
    }
   ],
   "source": [
    "from pyproj import Proj\n",
    "import numpy as np\n",
    "import pycegm"
   ]
  },
  {
   "cell_type": "markdown",
   "id": "04deba0c",
   "metadata": {},
   "source": [
    "Lets define the ellipsoid parameters in the next cell."
   ]
  },
  {
   "cell_type": "code",
   "execution_count": 2,
   "id": "e10b0903",
   "metadata": {},
   "outputs": [],
   "source": [
    "# semi-major axis a [meters]\n",
    "a = 6377563.396\n",
    "# semi-minor axis b [meters]\n",
    "b = 6356256.909 \n",
    "# true origin easting [meters]\n",
    "e0 = 400000.000\n",
    "# true origin northing [meters]\n",
    "n0 = -100000.000\n",
    "# central meridian scale\n",
    "f0 = 0.999601271700\n",
    "# true origin latitude [dec. degrees]\n",
    "PHI0 = 49.00000000 \n",
    "# true origin longitude [dec. degrees]\n",
    "LAM0 = -2.00000000"
   ]
  },
  {
   "cell_type": "markdown",
   "id": "65bdb4fa",
   "metadata": {},
   "source": [
    "In the cell below, convert Point 1 coordinates to decimal degree ✏️"
   ]
  },
  {
   "cell_type": "code",
   "execution_count": 3,
   "id": "0a66f01e",
   "metadata": {},
   "outputs": [],
   "source": [
    "lat_p1 = utils.dms2dd(52,30,45,'N')\n",
    "lon_p1 = utils.dms2dd(1,0,30,'W')"
   ]
  },
  {
   "cell_type": "markdown",
   "id": "446f27dd",
   "metadata": {},
   "source": [
    "In the cell below, convert Point 2 coordinates to decimal degrees ✏️"
   ]
  },
  {
   "cell_type": "code",
   "execution_count": 4,
   "id": "746ac8ff",
   "metadata": {},
   "outputs": [],
   "source": [
    "# input coordinates for points 2\n",
    "lat_p2 = utils.dms2dd(52,6,37.25981,'N')\n",
    "lon_p2 = utils.dms2dd(2,17,6.47629,'W')"
   ]
  },
  {
   "cell_type": "markdown",
   "id": "22c420ed",
   "metadata": {},
   "source": [
    "To convert coordinates from Lat/Lon to Easting and Northing map/projected coordinates in the OS National Grid (OSGB36), we use the python module Pyproj (cartographic projections and coordinate transformations library).\n",
    "The datum definition can easily be defined using the **EPSG** Geodetic Parameter Dataset is a public registry of geodetic datums, spatial reference systems, Earth ellipsoids, coordinate transformations and related units of measurement. \n",
    "\n",
    "Here is an example for converting the coordinates of the permanent GPS site NCAS (located in Newcastle University) to UTM easting/northing coordinates:"
   ]
  },
  {
   "cell_type": "code",
   "execution_count": 5,
   "id": "5018bda8",
   "metadata": {},
   "outputs": [
    {
     "name": "stdout",
     "output_type": "stream",
     "text": [
      "NCAS Easting = 588511.750736 ; Northing = 6093329.466385\n"
     ]
    }
   ],
   "source": [
    "latitude = 54.979 \n",
    "longitude =  -1.617\n",
    "# using WGS84/UTM zone 30N EPSG code\n",
    "# you can use the full proj format : \n",
    "# +proj=utm +zone=30 +datum=WGS84 +units=m +no_defs +type=crs\n",
    "proj_utm = Proj(\"epsg:32630\")\n",
    "# forward conversion\n",
    "easting,northing = proj_utm(longitude, latitude)\n",
    "print(\"NCAS Easting = %f ; Northing = %f\"%(easting,northing))"
   ]
  },
  {
   "cell_type": "markdown",
   "id": "3d941e7f",
   "metadata": {},
   "source": [
    "<div class=\"alert alert-block alert-info\">\n",
    "<b>Q1.1</b> Convert the geodetic coordinates of points 1 and 2 to Easting and Northing map/projected coordinates in the OS National Grid. \n",
    "</div>\n",
    "\n",
    "Use the site https://epsg.io/ to find the code for the OSGB36 / British National Grid. Then define your projection. ✏️"
   ]
  },
  {
   "cell_type": "code",
   "execution_count": 6,
   "id": "7f2ef936",
   "metadata": {},
   "outputs": [],
   "source": [
    "# define the reference as the OSGB national grid with Airy 1980 ellipsoid\n",
    "p = Proj(\"epsg:27700\")"
   ]
  },
  {
   "cell_type": "markdown",
   "id": "3e7b3d3e",
   "metadata": {},
   "source": [
    "Convert point 1 lon/lat to easting and northing  ✏️"
   ]
  },
  {
   "cell_type": "code",
   "execution_count": 7,
   "id": "ba015c49",
   "metadata": {},
   "outputs": [
    {
     "name": "stdout",
     "output_type": "stream",
     "text": [
      "Point 1: Easting =467290.942 Northing= 291015.056\n"
     ]
    }
   ],
   "source": [
    "easting_p1,northing_p1 = p(lon_p1, lat_p1)\n",
    "print('Point 1: Easting =%9.3f Northing=%11.3f'%(easting_p1,northing_p1))"
   ]
  },
  {
   "cell_type": "markdown",
   "id": "bc71101f",
   "metadata": {},
   "source": [
    " Convert point 1 lon/lat to easting and northing ✏️"
   ]
  },
  {
   "cell_type": "code",
   "execution_count": 8,
   "id": "f936b7ab",
   "metadata": {},
   "outputs": [
    {
     "name": "stdout",
     "output_type": "stream",
     "text": [
      "Point 1: Easting =380475.576 Northing= 245864.555\n"
     ]
    }
   ],
   "source": [
    "easting_p2,northing_p2 = p(lon_p2, lat_p2)\n",
    "print('Point 1: Easting =%9.3f Northing=%11.3f'%(easting_p2,northing_p2))"
   ]
  },
  {
   "cell_type": "markdown",
   "id": "b586dbc7",
   "metadata": {},
   "source": [
    "<div class=\"alert alert-block alert-info\">\n",
    "<b>Q1.2</b> Find the line scale factor and the ellipsoidal distance between points 1 and 2.\n",
    "</div>\n",
    "\n",
    "The module `utils` provides you with a function to calculate the point scale factor called `E_N_to_LSF`. An example of how to use this function: \n",
    "```\n",
    "scale_factor = utils.E_N_to_LSF(easting,northing,a, b, e0, n0, f0, PHI0)\n",
    "```\n",
    "The ellipsoid parameters a,b,e0,n0,f0 and PHI0 have been already defined above. Use the cell below to do your calculation."
   ]
  },
  {
   "cell_type": "code",
   "execution_count": 9,
   "id": "6a119e6e",
   "metadata": {},
   "outputs": [
    {
     "name": "stdout",
     "output_type": "stream",
     "text": [
      "0.9996568623194224\n"
     ]
    }
   ],
   "source": [
    "local_scale_factor_p1 = utils.E_N_to_LSF(easting_p1,northing_p1,a, b, e0, n0, f0, PHI0)\n",
    "print(local_scale_factor_p1)"
   ]
  },
  {
   "cell_type": "code",
   "execution_count": 10,
   "id": "100af7a7",
   "metadata": {},
   "outputs": [
    {
     "name": "stdout",
     "output_type": "stream",
     "text": [
      "0.9996059520780486\n"
     ]
    }
   ],
   "source": [
    "local_scale_factor_p2 = utils.E_N_to_LSF(easting_p2,northing_p2,a, b, e0, n0, f0, PHI0)\n",
    "print(local_scale_factor_p2)"
   ]
  },
  {
   "cell_type": "code",
   "execution_count": 11,
   "id": "5c74414e",
   "metadata": {},
   "outputs": [
    {
     "name": "stdout",
     "output_type": "stream",
     "text": [
      "Line Scale factor for the line between P1 and P2 = 0.999631\n"
     ]
    }
   ],
   "source": [
    "# using simpson's rule\n",
    "line_scale_factor_p1p2 = (local_scale_factor_p1+local_scale_factor_p2)/2\n",
    "print('Line Scale factor for the line between P1 and P2 = %f'%line_scale_factor_p1p2)"
   ]
  },
  {
   "cell_type": "markdown",
   "id": "ef61f31d",
   "metadata": {},
   "source": [
    "Now, we can calculate the ellipsoidal distance between points 1 and 2."
   ]
  },
  {
   "cell_type": "code",
   "execution_count": 12,
   "id": "1321c85b",
   "metadata": {},
   "outputs": [],
   "source": [
    "# The projected distance\n",
    "distance_p1p2 = np.sqrt((easting_p1-easting_p2)**2+(northing_p1-northing_p2)**2)"
   ]
  },
  {
   "cell_type": "markdown",
   "id": "c1ebbe36",
   "metadata": {},
   "source": [
    "Given $m = \\dfrac{d\\ell'}{d\\ell}$, then the ellipsoidal distance can be derived as\n",
    "$d\\ell = \\dfrac{d\\ell'}{m}$"
   ]
  },
  {
   "cell_type": "code",
   "execution_count": 13,
   "id": "777a9c7c",
   "metadata": {},
   "outputs": [
    {
     "name": "stdout",
     "output_type": "stream",
     "text": [
      "The ellipsoidal distance is 97890.440293 [meters]:\n"
     ]
    }
   ],
   "source": [
    "distance_ellip = distance_p1p2/line_scale_factor_p1p2\n",
    "print(\"The ellipsoidal distance is %f [meters]:\"%distance_ellip)"
   ]
  },
  {
   "cell_type": "markdown",
   "id": "57592727",
   "metadata": {},
   "source": [
    "Consider points 3, 4, and 5 with the following map/projected coordinates:\n",
    "\n",
    "$$\n",
    "E_3=35\\textrm{MMDD} \\, \\textrm{m}, \\\\\n",
    "N_3=551278 \\, \\textrm{m},\n",
    "$$\n",
    "\n",
    "$$\n",
    "E_4=346145 \\, \\textrm{m}, \\\\\n",
    "N_4=57\\textrm{DDMM} \\, \\textrm{m},\n",
    "$$\n",
    "\n",
    "$$\n",
    "E_5=345000 \\, \\textrm{m}, \\\\\n",
    "N_5=580000 \\, \\textrm{m}.\n",
    "$$\n",
    "\n",
    "Use the cell below to input your coordinates of points 3 to 5."
   ]
  },
  {
   "cell_type": "code",
   "execution_count": 14,
   "id": "3c20e15f",
   "metadata": {},
   "outputs": [],
   "source": [
    "easting_p3,northing_p3 = 350606,551278\n",
    "easting_p4,northing_p4 = 346145,570606\n",
    "easting_p5,northing_p5 = 345000,580000"
   ]
  },
  {
   "cell_type": "code",
   "execution_count": 36,
   "id": "7b814bb5",
   "metadata": {},
   "outputs": [
    {
     "data": {
      "image/png": "[encoded data removed]",
      "text/plain": [
       "<Figure size 640x480 with 1 Axes>"
      ]
     },
     "metadata": {},
     "output_type": "display_data"
    }
   ],
   "source": [
    "import matplotlib.pyplot as plt\n",
    "\n",
    "plt.plot(easting_p3,northing_p3, 'ro')\n",
    "plt.plot(easting_p4,northing_p4, 'ro')\n",
    "plt.plot(easting_p5,northing_p5, 'ro')\n",
    "\n",
    "plt.text(easting_p3,northing_p3, 'Point3')\n",
    "plt.text(easting_p4,northing_p4, 'Point4')\n",
    "plt.text(easting_p5,northing_p5, 'Point5')\n",
    "\n",
    "plt.show()"
   ]
  },
  {
   "cell_type": "markdown",
   "id": "0320fe81",
   "metadata": {},
   "source": [
    "<div class=\"alert alert-block alert-info\">\n",
    "<b>Q1.3</b> Find the meridian convergence at point 3 and explain the sign of the angle.\n",
    "</div>\n",
    "\n",
    "The module `utils` provides you with a function to calculate the meridian convergence called `E_N_to_C`. An example of how to use this function: \n",
    "```\n",
    "meridian_convergence = utils.E_N_to_C(easting,northing,a, b, e0, n0, f0, PHI0)\n",
    "```"
   ]
  },
  {
   "cell_type": "code",
   "execution_count": 15,
   "id": "126608c4",
   "metadata": {},
   "outputs": [
    {
     "name": "stdout",
     "output_type": "stream",
     "text": [
      "The meridian convergence at Point 3 is -0.629179 [d.degrees]\n"
     ]
    }
   ],
   "source": [
    "meridian_convergence_p3 = utils.E_N_to_C(easting_p3, northing_p3, a, b, e0, n0, f0, PHI0)\n",
    "print(\"The meridian convergence at Point 3 is %f [d.degrees]\"%meridian_convergence_p3)"
   ]
  },
  {
   "cell_type": "markdown",
   "id": "e9bbb98b",
   "metadata": {},
   "source": [
    "Use the space below to comment on the sign of the meridian convergence sign."
   ]
  },
  {
   "cell_type": "code",
   "execution_count": null,
   "id": "eef3b062",
   "metadata": {},
   "outputs": [],
   "source": [
    "\n",
    "\n",
    "\n",
    "\n",
    "\n",
    "\n"
   ]
  },
  {
   "cell_type": "markdown",
   "id": "aa7101d2",
   "metadata": {},
   "source": [
    "<div class=\"alert alert-block alert-info\">\n",
    "<b>Q1.4</b> Find the $t-T$  correction for the line between points 3 and 4 and for the line between points 4 and 3. Explain why the two values of the $t-T$ correction differ.\n",
    "</div>\n",
    "\n",
    "The module `utils` provides you with a function to calculate the $t-T$ correction, called `E_N_to_t_minus_T`. An example of how to use this function: \n",
    "```\n",
    "t_T = utils.E_N_to_t_minus_T(easting_point1, northing_point1, easting_point2, northing_point2, a, b, e0, n0, f0, PHI0)\n",
    "```\n",
    "\n",
    "Do the $t-T(3-4)$ calculation first"
   ]
  },
  {
   "cell_type": "code",
   "execution_count": 16,
   "id": "d6939f43",
   "metadata": {},
   "outputs": [
    {
     "name": "stdout",
     "output_type": "stream",
     "text": [
      "The t-T correction between points 3 and 4 is 0.0006916520 [d.deg]\n"
     ]
    }
   ],
   "source": [
    "t_T_p3p4 = utils.E_N_to_t_minus_T(easting_p3, northing_p3, easting_p4, northing_p4, a, b, e0, n0, f0, PHI0)\n",
    "print('The t-T correction between points 3 and 4 is %.10f [d.deg]'%t_T_p3p4)"
   ]
  },
  {
   "cell_type": "markdown",
   "id": "fb3dff61",
   "metadata": {},
   "source": [
    "Then, the $t-T(4-3)$"
   ]
  },
  {
   "cell_type": "code",
   "execution_count": 17,
   "id": "ff9f530e",
   "metadata": {},
   "outputs": [
    {
     "name": "stdout",
     "output_type": "stream",
     "text": [
      "The t-T correction between points 3 and 4 is -0.0007118655 [d.deg]\n"
     ]
    }
   ],
   "source": [
    "t_T_p4p3 = utils.E_N_to_t_minus_T(easting_p4, northing_p4, easting_p3, northing_p3, a, b, e0, n0, f0, PHI0)\n",
    "print('The t-T correction between points 3 and 4 is %.10f [d.deg]'%t_T_p4p3)"
   ]
  },
  {
   "cell_type": "markdown",
   "id": "eb786e68",
   "metadata": {},
   "source": [
    "<div class=\"alert alert-block alert-info\">\n",
    "<b>Q1.5</b> Find the projected azimuth $\\alpha$ (called true azimuth) of the line between points 3 and 4.\n",
    "</div>\n",
    "\n",
    "The module `utils` provides you with a function to calculate the $\\alpha$ true azimuth, called `TrueAzimuth`. An example of how to use this function: \n",
    "```\n",
    "alpha = utils.TrueAzimuth(easting_p1, northing_p1, easting_p2, northing_p2, a, b, e0, n0, f0, PHI0)\n",
    "```\n"
   ]
  },
  {
   "cell_type": "code",
   "execution_count": 18,
   "id": "473fc285",
   "metadata": {},
   "outputs": [
    {
     "name": "stdout",
     "output_type": "stream",
     "text": [
      "The projected azimuth of the line between Points 3 and 4 = 346.373564 [d.deg]\n"
     ]
    }
   ],
   "source": [
    "alpha_p3p4 = utils.TrueAzimuth(easting_p3, northing_p3, easting_p4, northing_p4, a, b, e0, n0, f0, PHI0)\n",
    "print(\"The projected azimuth of the line between Points 3 and 4 = %f [d.deg]\"%alpha_p3p4)"
   ]
  },
  {
   "cell_type": "markdown",
   "id": "b263c38c",
   "metadata": {},
   "source": [
    "<div class=\"alert alert-block alert-info\">\n",
    "<b>Q1.6</b> Find the projected clockwise angle between the line 3-4 and the line 3-5.\n",
    "</div>"
   ]
  },
  {
   "cell_type": "code",
   "execution_count": 19,
   "id": "4f12e7e1",
   "metadata": {},
   "outputs": [
    {
     "name": "stdout",
     "output_type": "stream",
     "text": [
      "The projected azimuth of the line between Points 3 and 4 = 348.325565 [d.deg]\n",
      "The projected angle between lines L34 and L35 = 1.952344 [d.deg]\n"
     ]
    }
   ],
   "source": [
    "# calculate the true azimuthfor the line p35\n",
    "alpha_p3p5 = utils.TrueAzimuth(easting_p3, northing_p3, easting_p5, northing_p5, a, b, e0, n0, f0, PHI0)\n",
    "print(\"The projected azimuth of the line between Points 3 and 4 = %f [d.deg]\"%alpha_p3p5)\n",
    "\n",
    "# the projected angle between the two lines, applying the second term corrections\n",
    "t_T_p3p5 = utils.E_N_to_t_minus_T(easting_p3, northing_p3, easting_p5, northing_p5, a, b, e0, n0, f0, PHI0)\n",
    "\n",
    "# see lecture 10 for this correction : wp = we + t-T(3-5) - t-T(3-4)\n",
    "angle_p3p4_p3p5 = alpha_p3p5 - alpha_p3p4 + (t_T_p3p5 - t_T_p3p4)\n",
    "print(\"The projected angle between lines L34 and L35 = %f [d.deg]\"%angle_p3p4_p3p5)"
   ]
  },
  {
   "cell_type": "markdown",
   "id": "349ad5a2",
   "metadata": {},
   "source": [
    "### Part 2 : The direct geodetic problem on the plane\n",
    "\n",
    "<div class=\"alert alert-block alert-info\">\n",
    "<b> Find the geodetic coordinates of point 6 </b> knowing that the ellipsoidal distance between point 1 and point 6 is <b>22.5 km</b> and the ellipsoidal azimuth (equal to the projected azimuth in conformal projections) of line 1-6 is <b>49.78 degrees</b>. The geodetic coordinates of point 1 are given in Part 1. Follow the iterative algorithm described in the notes of lecture 10 to answer this question.\n",
    "</div>\n",
    "\n",
    "**Write a function for the direct problem that takes the Northing, Easting, azimuth, distance and returns the target position**"
   ]
  },
  {
   "cell_type": "code",
   "execution_count": 20,
   "id": "22ab8b51",
   "metadata": {},
   "outputs": [],
   "source": [
    "def direct_problem(N_A,E_A,alpha_AB,distance_AB):\n",
    "    '''\n",
    "    Direct problem: given the location of the point A(Northing,Easting),\n",
    "    the azimuth AB (alpha) and the projected distance AB (distance_AB)\n",
    "    derive the location of the point B. \n",
    "    '''\n",
    "    alpha = np.deg2rad(alpha_AB)\n",
    "    N_B = N_A + distance_AB*np.cos(alpha)\n",
    "    E_B = E_A + distance_AB*np.sin(alpha)\n",
    "    return N_B,E_B"
   ]
  },
  {
   "cell_type": "markdown",
   "id": "dc8c3ed3",
   "metadata": {},
   "source": [
    "Input the parameters distance and azmith between points 1 and 6."
   ]
  },
  {
   "cell_type": "code",
   "execution_count": 21,
   "id": "2f24d6a8",
   "metadata": {},
   "outputs": [],
   "source": [
    "# ellipsoidal distance [meters]\n",
    "distance_p1p6 =  22.5*1e3\n",
    "# azimuth in decimal degrees\n",
    "azimuth_p1p6 = 49.78"
   ]
  },
  {
   "cell_type": "markdown",
   "id": "aa40bb04",
   "metadata": {},
   "source": [
    "Using the iterative algorithm introduced in Lecture 10, use a `for` loop with a tolerance of 1mm for the convergence."
   ]
  },
  {
   "cell_type": "code",
   "execution_count": 22,
   "id": "7d048839",
   "metadata": {},
   "outputs": [
    {
     "name": "stdout",
     "output_type": "stream",
     "text": [
      "Iteration  1\n",
      "Iteration  2\n",
      "Iteration  3\n",
      "Iteration  4\n",
      "----\n",
      "convergence at iteration 4\n",
      "Northing P6 = 305773.821898 [meters], Easting P6=484264.375302 [meters]\n"
     ]
    }
   ],
   "source": [
    "# maximum iteration\n",
    "max_it = 10\n",
    "# tolerance for convergence\n",
    "tolerance = 1e-6\n",
    "# initial values for unknown Point 6\n",
    "northing_init,easting_init = 0,0\n",
    "# meridian convergence at Point 1\n",
    "meridian_convergence_p1 = utils.E_N_to_C(easting_p1, northing_p1, a, b, e0, n0, f0, PHI0)\n",
    "\n",
    "for i in range(max_it):\n",
    "    print(\"Iteration \",i+1)\n",
    "    # calculate the grid azimuth of the chord\n",
    "    t = azimuth_p1p6 - meridian_convergence_p1\n",
    "    # first iteration\n",
    "    if (i==0):\n",
    "        # we use the point scale factor at p1\n",
    "        line_scale_factor_p1p6 = local_scale_factor_p1\n",
    "        # we ignore the t_T correction\n",
    "        t_T_p1p6 = 0\n",
    "    else:\n",
    "        local_scale_factor_p6 = utils.E_N_to_LSF(easting_p6, northing_p6, a, b, e0, n0, f0, PHI0)\n",
    "        line_scale_factor_p1p6 = (local_scale_factor_p1+local_scale_factor_p6)/2\n",
    "        t_T_p1p6 = utils.E_N_to_t_minus_T(easting_p1, northing_p1, easting_p6, northing_p6, a, b, e0, n0, f0, PHI0)\n",
    "    \n",
    "    # apply the t_T correction\n",
    "    t = t + t_T_p1p6\n",
    "    # calculate the projected distance\n",
    "    proj_distance_p1p6 = line_scale_factor_p1p6*distance_p1p6\n",
    "    # forward mapping\n",
    "    northing_p6,easting_p6 = direct_problem(northing_p1,easting_p1,t,proj_distance_p1p6)\n",
    "    # calculate the difference from the previous iteration\n",
    "    diff_northing = northing_p6 - northing_init \n",
    "    diff_easting = easting_p6 - easting_init\n",
    "    if ((diff_easting>tolerance) o  r (diff_northing>tolerance)):\n",
    "        northing_init,easting_init = northing_p6,easting_p6\n",
    "    else:\n",
    "        print(\"----\")\n",
    "        print('convergence at iteration',i+1)\n",
    "        print('Northing P6 = %f [meters], Easting P6=%f [meters]'%(northing_p6,easting_p6))\n",
    "        break"
   ]
  },
  {
   "cell_type": "code",
   "execution_count": 5,
   "id": "6a2ccee1",
   "metadata": {},
   "outputs": [
    {
     "name": "stdout",
     "output_type": "stream",
     "text": [
      "[[1 2 3]\n",
      " [4 5 6]\n",
      " [7 8 9]]\n",
      "[1 2 3]\n",
      "[14 32 50]\n"
     ]
    }
   ],
   "source": [
    "import numpy as np\n",
    "Amat=np.array([[1,2,3],[4,5,6],[7,8,9]])\n",
    "bvect = np.array([1,2,3])\n",
    "c=Amat.dot(bvect)\n",
    "print(Amat)\n",
    "print(bvect)\n",
    "print(c)"
   ]
  },
  {
   "cell_type": "code",
   "execution_count": 32,
   "id": "4d2466b0",
   "metadata": {},
   "outputs": [
    {
     "name": "stdout",
     "output_type": "stream",
     "text": [
      "Geodetic coordinates Latitude P6 = -0.754499 [deg], Longitude P6=52.642803 [deg]\n"
     ]
    }
   ],
   "source": [
    "lat_p6,lon_p6=p(easting_p6, northing_p6,inverse=True)\n",
    "print('Geodetic coordinates Latitude P6 = %f [deg], Longitude P6=%f [deg]'%(lat_p6,lon_p6))"
   ]
  },
  {
   "cell_type": "markdown",
   "id": "3004ed8a",
   "metadata": {},
   "source": [
    "### Part 3 Three-dimensional Helmert transformation\n",
    "\n",
    "The seven parameters of a 3D Helmert transformation from reference frame A to reference frame B have the following values:\n",
    "\n",
    "$$\n",
    "T_{X}=\\textrm{DD} \\, \\textrm{cm}, \\, T_{Y}=-\\textrm{MM} \\, \\textrm{cm}, T_{Z}=5 \\, \\textrm{cm}, \\\\\n",
    "\\alpha_{X}=-2.1^{\\prime\\prime}, \\, \\alpha_{Y}=5.9^{\\prime\\prime}, \\, \\alpha_{Z}=1^{\\prime\\prime}, \\\\\n",
    "s=2.1 \\, \\textrm{ppm},\n",
    "$$\n",
    "\n",
    "where $T_x,T_y,Tz$ are the translation parameters, $\\alpha_X,\\alpha_Y,\\alpha_Z$ are the rotation angles about the $X,Z and Z$ coordinate axes and $s$ is the scale parameter. Knowing that a geodetic station has the following geocentric coordinates in reference frame A:\n",
    "\n",
    "$$\n",
    "X_A=4033463.66 \\textrm{m}, \\\\\n",
    "Y_A=23662.54 \\textrm{m}, \\\\\n",
    "Z_A=4924305.21 \\textrm{m},\n",
    "$$\n",
    "\n",
    "<div class=\"alert alert-block alert-info\">\n",
    "Find the corresponding coordinates of the station in reference frame B.\n",
    "</div>"
   ]
  },
  {
   "cell_type": "code",
   "execution_count": 24,
   "id": "66784359",
   "metadata": {},
   "outputs": [],
   "source": [
    "# transformation parameters [meters]\n",
    "TX = 0.06\n",
    "TY =-0.06\n",
    "TZ =0.05\n",
    "\n",
    "# Rotation angles [seconds]\n",
    "alphaX = -2.1\n",
    "alphaY = 5.9\n",
    "alphaZ = 1\n",
    "\n",
    "# scale\n",
    "s = 2.1*1e-6"
   ]
  },
  {
   "cell_type": "code",
   "execution_count": 25,
   "id": "7c5395f2",
   "metadata": {},
   "outputs": [],
   "source": [
    "# position vector of point A [meters]\n",
    "XA = 4033463.66\n",
    "YA = 23662.54\n",
    "ZA = 4924305.21\n",
    "xyz_A = np.array([XA,YA,ZA])"
   ]
  },
  {
   "cell_type": "markdown",
   "id": "309de165",
   "metadata": {},
   "source": [
    "Using a 7-parameters transformation:\n",
    "\n",
    "\n",
    "$$\n",
    "\\begin{pmatrix} x_B \\\\ y_B \\\\ z_B\\end{pmatrix} =\\begin{pmatrix} 1+s & -\\theta_z & \\theta_y\\\\ \\theta_z & 1+s & -\\theta_x\\\\ -\\theta_y & \\theta_x & 1+s \\end{pmatrix}\\begin{pmatrix} x_A \\\\ y_A \\\\ z_A\\end{pmatrix}+ \\begin{pmatrix} T_x \\\\ T_y \\\\ T_z\\end{pmatrix}\n",
    "$$"
   ]
  },
  {
   "cell_type": "markdown",
   "id": "afb5806b",
   "metadata": {},
   "source": [
    "Define the rotation matrix `Rot`"
   ]
  },
  {
   "cell_type": "code",
   "execution_count": 26,
   "id": "4a64484b",
   "metadata": {},
   "outputs": [],
   "source": [
    "# Store rotation values in array convert to decimal degrees\n",
    "Rot = np.array([np.deg2rad(alphaX/3600),np.deg2rad(alphaY/3600),np.deg2rad(alphaZ/3600)])\n",
    "\n",
    "# Rotation matrix\n",
    "RotationMat = np.array([[1+s,-Rot[2],Rot[1]],\n",
    "                    [Rot[2],1+s,-Rot[0]],\n",
    "                    [-Rot[1],Rot[0],1+s]]) "
   ]
  },
  {
   "cell_type": "markdown",
   "id": "4dc975bf",
   "metadata": {},
   "source": [
    "Define the translation vector"
   ]
  },
  {
   "cell_type": "code",
   "execution_count": 27,
   "id": "42e43acd",
   "metadata": {},
   "outputs": [],
   "source": [
    "TranslationMat = np.array([TX,TY,TZ])"
   ]
  },
  {
   "cell_type": "code",
   "execution_count": 28,
   "id": "34c1e230",
   "metadata": {},
   "outputs": [],
   "source": [
    "RotationMat = np.array([[1+s,-Rot[2],Rot[1]],\n",
    "                    [Rot[2],1+s,-Rot[0]],\n",
    "                    [-Rot[1],Rot[0],1+s]]) "
   ]
  },
  {
   "cell_type": "markdown",
   "id": "6067eb1e",
   "metadata": {},
   "source": [
    "The solution is: "
   ]
  },
  {
   "cell_type": "code",
   "execution_count": 29,
   "id": "557119cc",
   "metadata": {},
   "outputs": [],
   "source": [
    "pB = RotationMat.dot(xyz_A)+TranslationMat"
   ]
  },
  {
   "cell_type": "code",
   "execution_count": 30,
   "id": "8a1ef95f",
   "metadata": {},
   "outputs": [
    {
     "name": "stdout",
     "output_type": "stream",
     "text": [
      "X - Point B: 4033612.930416\n",
      "Y - Point B: 23732.219256\n",
      "Z - Point B: 4924199.986907\n"
     ]
    }
   ],
   "source": [
    "print(\"X - Point B: %f\"%(pB[0]))\n",
    "print(\"Y - Point B: %f\"%(pB[1]))\n",
    "print(\"Z - Point B: %f\"%(pB[2]))"
   ]
  },
  {
   "cell_type": "code",
   "execution_count": null,
   "id": "8c6c50d5",
   "metadata": {},
   "outputs": [],
   "source": []
  }
 ],
 "metadata": {
  "kernelspec": {
   "display_name": "Python 3 (ipykernel)",
   "language": "python",
   "name": "python3"
  },
  "language_info": {
   "codemirror_mode": {
    "name": "ipython",
    "version": 3
   },
   "file_extension": ".py",
   "mimetype": "text/x-python",
   "name": "python",
   "nbconvert_exporter": "python",
   "pygments_lexer": "ipython3",
   "version": "3.10.12"
  }
 },
 "nbformat": 4,
 "nbformat_minor": 5
}
