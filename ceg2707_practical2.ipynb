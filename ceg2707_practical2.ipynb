{
 "cells": [
  {
   "cell_type": "markdown",
   "id": "f9d47017",
   "metadata": {},
   "source": [
    "![test](https://github.com/koulali/ceg2707/blob/main/ceg2707_logo_notebook.png?raw=true)\n",
    "\n",
    "# Practical 2: Map projection computations and coordinate transformations\n",
    "\n",
    "In this practical you will undertake common calculations with coordinates. You will convert geodetic coordinates to Easting and Northing map/projected coordinates in the Ordnance Survey (OS) National Grid. You will learn how to solve a direct geodetic problem on the plane and perform the three-dimensional Helmert transformation.\n",
    "\n",
    "We will be using a Jupyter notebook to perform the computations so that you can observe the process and the computational aspect of the knowledge gained during the Lecture sessions. You will need basic prior Python programming experience (CEG1713).\n",
    "\n",
    "\n",
    ">There is no formal write-up for this practical. However, there is a mark for \"satisfactory completion\" 😉 which you can achieve by uploading your answers via Canvas. The instructions below will help you do the coordinates conversions. Note that the emoji 👇 ✍🏻 , means that you have to input your answer in the cell below ( replace the three dots ... with your input)\n",
    "\n",
    "\n",
    "👇 Before you start run the following cell to load all the needed functions for this practical.\n"
   ]
  },
  {
   "cell_type": "code",
   "execution_count": null,
   "id": "17149c01",
   "metadata": {},
   "outputs": [],
   "source": [
    "%pip install -q pyproj\n",
    "%pip install -q pycegm"
   ]
  },
  {
   "cell_type": "code",
   "execution_count": null,
   "id": "2bcd61c2",
   "metadata": {},
   "outputs": [],
   "source": [
    "from pyproj import Proj\n",
    "import numpy as np\n",
    "from pycegm.units import dms_to_decimal,decimal_to_dms\n",
    "from pycegm.mproj import E_N_to_LSF,E_N_to_C,E_N_to_t_minus_T,TrueAzimuth"
   ]
  },
  {
   "cell_type": "markdown",
   "id": "7e0dda6f",
   "metadata": {},
   "source": [
    "## Part 1. Computations in the Ordnance Survey National Grid\n",
    "\n",
    "Point 1 has the following geodetic coordinates:\n",
    "\n",
    "$$\n",
    "\\varphi_{1}=52^\\circ 30^\\prime 45^{\\prime\\prime} \\, \\textrm{N},\\\\\n",
    "\\lambda_{1}=1^\\circ 00^\\prime 30^{\\prime\\prime} \\, \\textrm{W},\n",
    "$$\n",
    "\n",
    "whereas point 2 has the geodetic coordinates\n",
    "\n",
    "$$\n",
    "\\varphi_{2}=52^\\circ \\textrm{MM}^\\prime 37.25981^{\\prime\\prime} \\, \\textrm{N},\\\\\n",
    "\\lambda_{2}=2^\\circ 17^\\prime \\textrm{DD}.47629^{\\prime\\prime}  \\, \\textrm{W}. \n",
    "$$\n",
    "\n",
    "where DD is your day of birth and MM is your month of birth (e.g. for 23 June DD = 23 and MM = 06). Both positions are expressed on the Airy 1830 ellipsoid. \n",
    "\n",
    "\n",
    "### Q1.1 Convert the geodetic coordinates of points 1 and 2 to Easting and Northing map/projected coordinates in the OS National Grid. \n",
    "\n",
    "\n",
    "To convert coordinates from Lat/Lon to Easting and Northing map/projected coordinates in the OS National Grid (OSGB36), we use the python module Pyproj (cartographic projections and coordinate transformations library).\n",
    "The datum definition can easily be defined using the **EPSG** Geodetic Parameter Dataset is a public registry of geodetic datums, spatial reference systems, Earth ellipsoids, coordinate transformations and related units of measurement. \n",
    "\n",
    "First, we need to convert the coordinates from degrees,minutes,seconds to decimal degrees using the functions `dms_to_decimal`. In the cell below, convert Point 1 coordinates to decimal degree  👇 ✍🏻 ."
   ]
  },
  {
   "cell_type": "code",
   "execution_count": null,
   "id": "0a66f01e",
   "metadata": {},
   "outputs": [],
   "source": [
    "# we define the A point's coordinates \n",
    "lat  =  {\n",
    "    'deg' : ...,\n",
    "    'min' : ...,\n",
    "    'sec' : ...,\n",
    "    'dir' : \"N\"\n",
    "}\n",
    "\n",
    "lon = {\n",
    "    'deg' : ...,\n",
    "    'min' : ...,\n",
    "    'sec' : ...,\n",
    "    'dir' : \"W\"\n",
    "}\n",
    "\n",
    "lat_p1 = ...\n",
    "lon_p1 = ..."
   ]
  },
  {
   "cell_type": "markdown",
   "id": "446f27dd",
   "metadata": {},
   "source": [
    "Then, convert Point 2 coordinates to decimal degrees 👇 ✍🏻 "
   ]
  },
  {
   "cell_type": "code",
   "execution_count": null,
   "id": "746ac8ff",
   "metadata": {},
   "outputs": [],
   "source": [
    "# input coordinates for points 2\n",
    "lat  =  {\n",
    "    'deg' : ...,\n",
    "    'min' : ...,\n",
    "    'sec' : ...,\n",
    "    'dir' : \"N\"\n",
    "}\n",
    "\n",
    "lon = {\n",
    "    'deg' : ...,\n",
    "    'min' : ...,\n",
    "    'sec' : ...,\n",
    "    'dir' : \"W\"\n",
    "}\n",
    "\n",
    "lat_p2 = ...\n",
    "lon_p2 = ..."
   ]
  },
  {
   "cell_type": "markdown",
   "id": "afb9a259-0389-40c8-864d-5391496d7fd7",
   "metadata": {},
   "source": [
    "> Here is an example for converting the coordinates of the permanent GPS site NCAS (located in Newcastle University) to UTM easting/northing coordinates:"
   ]
  },
  {
   "cell_type": "code",
   "execution_count": null,
   "id": "5018bda8",
   "metadata": {},
   "outputs": [],
   "source": [
    "latitude = 54.979 \n",
    "longitude =  -1.617\n",
    "p = Proj(\"epsg:32630\")\n",
    "easting,northing = p(longitude, latitude)\n",
    "print(\"NCAS Easting = %f ; Northing = %f\"%(easting,northing))"
   ]
  },
  {
   "cell_type": "markdown",
   "id": "0f60627c-eb92-4106-a9bf-6432fbf61fd2",
   "metadata": {},
   "source": [
    "It's your turn now to do so for the points 1 and 2  👇 ✍🏻 \n",
    "Use the site https://epsg.io/ to find the code for the OSGB36 / British National Grid. Then define your projection."
   ]
  },
  {
   "cell_type": "code",
   "execution_count": null,
   "id": "7f2ef936",
   "metadata": {},
   "outputs": [],
   "source": [
    "# define the reference as the OSGB national grid with Airy 1980 ellipsoid\n",
    "p = ..."
   ]
  },
  {
   "cell_type": "code",
   "execution_count": null,
   "id": "c2b1f490-4438-4f3b-ab55-c76c6c5a0554",
   "metadata": {},
   "outputs": [],
   "source": [
    "easting_p1,northing_p1 = ...\n",
    "print('Point 1: Easting =%9.3f Northing=%11.3f'%(easting_p1,northing_p1))"
   ]
  },
  {
   "cell_type": "code",
   "execution_count": null,
   "id": "f936b7ab",
   "metadata": {},
   "outputs": [],
   "source": [
    "easting_p2,northing_p2 = ...\n",
    "print('Point 1: Easting =%9.3f Northing=%11.3f'%(easting_p2,northing_p2))"
   ]
  },
  {
   "cell_type": "markdown",
   "id": "b586dbc7",
   "metadata": {},
   "source": [
    "\n",
    "### Q1.2 Find the line scale factor and the ellipsoidal distance between points 1 and 2.\n",
    "\n",
    "We covered in lecture ... how to calculate line scale factors. This requires knowing the point scale factors at points 1 and 2. The module `pycegm.mproj` provides you with a function to calculate the point scale factor called `E_N_to_LSF`. An example of how to use this function: \n",
    "```\n",
    "scale_factor = E_N_to_LSF(easting,northing,a, b, e0, n0, f0, PHI0)\n",
    "```\n",
    "The following cell defines the ellipsoid parameters a,b,e0,n0,f0 and PHI0."
   ]
  },
  {
   "cell_type": "code",
   "execution_count": null,
   "id": "e10b0903",
   "metadata": {},
   "outputs": [],
   "source": [
    "# semi-major axis a [meters]\n",
    "a = 6377563.396\n",
    "# semi-minor axis b [meters]\n",
    "b = 6356256.909 \n",
    "# true origin easting [meters]\n",
    "e0 = 400000.000\n",
    "# true origin northing [meters]\n",
    "n0 = -100000.000\n",
    "# central meridian scale\n",
    "f0 = 0.999601271700\n",
    "# true origin latitude [dec. degrees]\n",
    "PHI0 = 49.00000000 \n",
    "# true origin longitude [dec. degrees]\n",
    "LAM0 = -2.00000000"
   ]
  },
  {
   "cell_type": "code",
   "execution_count": null,
   "id": "6a119e6e",
   "metadata": {},
   "outputs": [],
   "source": [
    "local_scale_factor_p1 = ..."
   ]
  },
  {
   "cell_type": "code",
   "execution_count": null,
   "id": "100af7a7",
   "metadata": {},
   "outputs": [],
   "source": [
    "local_scale_factor_p2 = ..."
   ]
  },
  {
   "cell_type": "markdown",
   "id": "1ab16b95-6f03-49dc-8f52-495f1b2f25dc",
   "metadata": {},
   "source": [
    "Now that you have point scale factors at points 1 and 2, you can calculate the line scale factor 👇 ✍🏻 "
   ]
  },
  {
   "cell_type": "code",
   "execution_count": null,
   "id": "5c74414e",
   "metadata": {},
   "outputs": [],
   "source": [
    "line_scale_factor_p1p2 = ...\n",
    "print('Line Scale factor for the line between P1 and P2 = %f'%line_scale_factor_p1p2)"
   ]
  },
  {
   "cell_type": "markdown",
   "id": "c1ebbe36",
   "metadata": {},
   "source": [
    "Given $m = \\dfrac{d\\ell'}{d\\ell}$, then the ellipsoidal distance can be derived as\n",
    "$d\\ell = \\dfrac{d\\ell'}{m}$\n",
    "\n",
    "But, you have first to calculate the unknown projected distance which we call `distance_p1p2` 👇 ✍🏻 "
   ]
  },
  {
   "cell_type": "code",
   "execution_count": null,
   "id": "1321c85b",
   "metadata": {},
   "outputs": [],
   "source": [
    "distance_p1p2 = ..."
   ]
  },
  {
   "cell_type": "code",
   "execution_count": null,
   "id": "777a9c7c",
   "metadata": {},
   "outputs": [],
   "source": [
    "distance_ellip = ...\n",
    "print(\"The ellipsoidal distance is %f [meters]:\"%distance_ellip)"
   ]
  },
  {
   "cell_type": "markdown",
   "id": "57592727",
   "metadata": {},
   "source": [
    "### Q.1.3 Find the meridian convergence at point 3 and explain the sign of the angle.\n",
    "\n",
    "Consider points 3, 4, and 5 with the following map/projected coordinates:\n",
    "\n",
    "$$\n",
    "E_3=35\\textrm{MMDD} \\, \\textrm{m}, \\\\\n",
    "N_3=551278 \\, \\textrm{m},\n",
    "$$\n",
    "\n",
    "$$\n",
    "E_4=346145 \\, \\textrm{m}, \\\\\n",
    "N_4=57\\textrm{DDMM} \\, \\textrm{m},\n",
    "$$\n",
    "\n",
    "$$\n",
    "E_5=345000 \\, \\textrm{m}, \\\\\n",
    "N_5=580000 \\, \\textrm{m}.\n",
    "$$\n",
    "\n",
    "Find the meridian convergence at point 3. To do so, the module `pycegm.mproj` provides you with a function to calculate the meridian convergence called `E_N_to_C`. An example of how to use this function: \n",
    "\n",
    "```\n",
    "meridian_convergence = E_N_to_C(easting,northing,a, b, e0, n0, f0, PHI0)\n",
    "```\n",
    "\n",
    "As a first step, use the cell below to input your coordinates of points 3 to 5 👇 ✍🏻 "
   ]
  },
  {
   "cell_type": "code",
   "execution_count": null,
   "id": "3c20e15f",
   "metadata": {},
   "outputs": [],
   "source": [
    "# poin 3\n",
    "easting_p3 = ...\n",
    "northing_p3 = ...\n",
    "\n",
    "# point 4\n",
    "easting_p4 = ...\n",
    "northing_p4 = ...\n",
    "\n",
    "# point 5\n",
    "easting_p5 = ...\n",
    "northing_p5 = ..."
   ]
  },
  {
   "cell_type": "markdown",
   "id": "1fd3e3c0-ce7e-4d27-8aa2-471c8f16f2c5",
   "metadata": {},
   "source": [
    "Now, calculate the meridian copnvergence 👇 ✍🏻 "
   ]
  },
  {
   "cell_type": "code",
   "execution_count": null,
   "id": "126608c4",
   "metadata": {},
   "outputs": [],
   "source": [
    "meridian_convergence_p3 = ...\n",
    "print(\"The meridian convergence at Point 3 is %f [d.degrees]\"%meridian_convergence_p3)"
   ]
  },
  {
   "cell_type": "markdown",
   "id": "e9bbb98b",
   "metadata": {},
   "source": [
    "Use the space below to comment on the sign of the meridian convergence sign."
   ]
  },
  {
   "cell_type": "markdown",
   "id": "a32bcec7-f95b-40bc-b9e9-6116895139cd",
   "metadata": {},
   "source": [
    "✏️ **Your answer here**\n",
    "\n",
    "...\n",
    "\n",
    "...\n",
    "\n",
    "...\n",
    "\n",
    "..."
   ]
  },
  {
   "cell_type": "markdown",
   "id": "aa7101d2",
   "metadata": {},
   "source": [
    "\n",
    "### Q1.4 Find the $t-T$  correction for the line between points 3 and 4 and for the line between points 4 and 3. \n",
    "\n",
    "The module pycegm provides you with a function to calculate the $t-T$ correction, called `E_N_to_t_minus_T`. An example of how to use this function: \n",
    "```\n",
    "t_T = E_N_to_t_minus_T(easting_point1, northing_point1, easting_point2, northing_point2, a, b, e0, n0, f0, PHI0)\n",
    "```\n",
    "\n",
    "Do the $t-T(3-4)$ calculation first  👇 ✍🏻 "
   ]
  },
  {
   "cell_type": "code",
   "execution_count": null,
   "id": "d6939f43",
   "metadata": {},
   "outputs": [],
   "source": [
    "t_T_p3p4 = ...\n",
    "print('The t-T correction between points 3 and 4 is %.10f [d.deg]'%t_T_p3p4)"
   ]
  },
  {
   "cell_type": "markdown",
   "id": "fb3dff61",
   "metadata": {},
   "source": [
    "Then, the $t-T(4-3)$  👇 ✍🏻 "
   ]
  },
  {
   "cell_type": "code",
   "execution_count": null,
   "id": "ff9f530e",
   "metadata": {},
   "outputs": [],
   "source": [
    "t_T_p4p3 = ...\n",
    "print('The t-T correction between points 3 and 4 is %.10f [d.deg]'%t_T_p4p3)"
   ]
  },
  {
   "cell_type": "markdown",
   "id": "c403e8fe-e900-40a2-a913-2e1ccd7c3df0",
   "metadata": {},
   "source": [
    "\n",
    "\n",
    "✏️ Explain why the two values of the $t-T$ corrections differ.\n",
    "\n",
    "...\n",
    "\n",
    "...\n",
    "\n",
    "...\n",
    "\n"
   ]
  },
  {
   "cell_type": "markdown",
   "id": "eb786e68",
   "metadata": {},
   "source": [
    "\n",
    "### Q1.5 Find the projected azimuth $\\alpha$ (called true azimuth) of the line between points 3 and 4.\n",
    "\n",
    "\n",
    "The module `pycegm.mproj` provides you with a function to calculate the $\\alpha$ true azimuth, called `TrueAzimuth`. An example of how to use this function: \n",
    "```\n",
    "alpha = TrueAzimuth(easting_p1, northing_p1, easting_p2, northing_p2, a, b, e0, n0, f0, PHI0)\n",
    "```\n",
    "\n",
    "👇 ✍🏻 "
   ]
  },
  {
   "cell_type": "code",
   "execution_count": null,
   "id": "473fc285",
   "metadata": {},
   "outputs": [],
   "source": [
    "alpha_p3p4 = ...\n",
    "print(\"The projected azimuth of the line between Points 3 and 4 = %f [d.deg]\"%alpha_p3p4)"
   ]
  },
  {
   "cell_type": "markdown",
   "id": "b263c38c",
   "metadata": {},
   "source": [
    "\n",
    "### Q1.6 Find the projected clockwise angle between the line 3-4 and the line 3-5.\n",
    "\n",
    "To solve this question, you need to: \n",
    "1. calculate the true azimuthfor the line point 3 - point 5\n",
    "2. apply the second term correction $t-T$ between 3 and 5\n",
    "3. Finally, use the formula in lecture 10 to calculate the angle between the lines p3-p4 and p3-p5\n",
    "\n",
    "\n",
    "👇 ✍🏻 "
   ]
  },
  {
   "cell_type": "code",
   "execution_count": null,
   "id": "4f12e7e1",
   "metadata": {},
   "outputs": [],
   "source": [
    "# calculate the true azimuthfor the line p35\n",
    "alpha_p3p5 = ...\n",
    "print(\"The projected azimuth of the line between Points 3 and 4 = %f [d.deg]\"%alpha_p3p5)\n",
    "\n",
    "# the projected angle between the two lines, applying the second term corrections\n",
    "t_T_p3p5 = ...\n",
    "\n",
    "# see lecture 10 for this correction\n",
    "angle_p3p4_p3p5 = ...\n",
    "print(\"The projected angle between lines L34 and L35 = %f [d.deg]\"%angle_p3p4_p3p5)"
   ]
  },
  {
   "cell_type": "markdown",
   "id": "349ad5a2",
   "metadata": {},
   "source": [
    "---\n",
    "\n",
    "## Part 2 : The direct geodetic problem on the plane\n",
    "\n",
    "\n",
    "> **Find the geodetic coordinates of point 6** knowing that the ellipsoidal distance between point 1 and point 6 is **22.5 km** and the ellipsoidal azimuth (equal to the projected azimuth in conformal projections) of line 1-6 is **49.78 degrees**. The geodetic coordinates of point 1 are given in Part 1. Follow the iterative algorithm described in the notes of lecture 10 to answer this question.\n",
    "\n",
    "\n",
    "### Q2.1 Write a function for the direct problem that takes the Northing, Easting, azimuth, distance and returns the target position\n",
    "\n",
    "👇 ✍🏻 "
   ]
  },
  {
   "cell_type": "code",
   "execution_count": null,
   "id": "22ab8b51",
   "metadata": {},
   "outputs": [],
   "source": [
    "def forward_mapping(N_A,E_A,alpha_AB,distance_AB):\n",
    "    '''\n",
    "    Forward mapping: given the location of the point A(Northing,Easting),\n",
    "    the azimuth AB (alpha) and the projected distance AB (distance_AB)\n",
    "    derive the location of the point B. \n",
    "    \n",
    "    Arguments:\n",
    "        N_A : northing A [m]\n",
    "        E_A : easting A [m]\n",
    "        alpha_AB: azimuth A-B [degrees]\n",
    "        distance_AB: distance [m]\n",
    "    Returns:\n",
    "        N_B : northing B [m]\n",
    "        E_B : easting B [m]\n",
    "    '''\n",
    "    ...\n",
    "    return N_B,E_B"
   ]
  },
  {
   "cell_type": "markdown",
   "id": "dc8c3ed3",
   "metadata": {},
   "source": [
    "Input the parameters distance and azimuth between points 1 and 6 👇 ✍🏻 "
   ]
  },
  {
   "cell_type": "code",
   "execution_count": null,
   "id": "2f24d6a8",
   "metadata": {},
   "outputs": [],
   "source": [
    "# ellipsoidal distance [meters]\n",
    "distance_p1p6 =  ...\n",
    "# azimuth in decimal degrees\n",
    "azimuth_p1p6 = ..."
   ]
  },
  {
   "cell_type": "markdown",
   "id": "aa40bb04",
   "metadata": {},
   "source": [
    "### Q2.2 Using the iterative algorithm introduced in Lecture 10, to find the geodetic coordinates of point 6  \n",
    "\n",
    "To help you solving this question, I have prepared the following code for you wihth some missing elements, which you have to fill in order to converge. \n",
    "\n",
    "hint: use a `for` loop with a tolerance of 1mm for the convergence. The comments above each line of code are there to guide you for understand the algorithm.\n",
    "\n",
    "👇 ✍🏻 "
   ]
  },
  {
   "cell_type": "code",
   "execution_count": null,
   "id": "7d048839",
   "metadata": {},
   "outputs": [],
   "source": [
    "# maximum iteration (10 iteration is more than enough for the convergence)\n",
    "max_it = 10\n",
    "\n",
    "# tolerance for convergence (units are in meters)\n",
    "tolerance = 1e-6\n",
    "\n",
    "# initial values for unknown Point 6\n",
    "northing_init,easting_init = 0,0\n",
    "\n",
    "# meridian convergence at Point 1\n",
    "meridian_convergence_p1 = E_N_to_C(easting_p1, northing_p1, a, b, e0, n0, f0, PHI0)\n",
    "\n",
    "for i in range(max_it):\n",
    "    print(\"Iteration \",i+1)\n",
    "    \n",
    "    # calculate the grid azimuth of the chord t\n",
    "    t = ...\n",
    "    \n",
    "    # first iteration\n",
    "    if (i==0):\n",
    "        # we use the point scale factor at p1\n",
    "        line_scale_factor_p1p6 = ...\n",
    "        # we ignore the t_T correction\n",
    "        t_T_p1p6 = 0\n",
    "    else:\n",
    "        local_scale_factor_p6 = ...\n",
    "        line_scale_factor_p1p6 = ...\n",
    "        t_T_p1p6 = E_N_to_t_minus_T(easting_p1, northing_p1, easting_p6, northing_p6, a, b, e0, n0, f0, PHI0)\n",
    "    \n",
    "    # apply the t_T correction\n",
    "    t = ...\n",
    "    \n",
    "    # calculate the projected distance ~ l'(AB)\n",
    "    proj_distance_p1p6 = ...\n",
    "    \n",
    "    # forward mapping, here use the function you wrote above\n",
    "    northing_p6,easting_p6 = ...\n",
    "    \n",
    "    # calculate the difference from the previous iteration\n",
    "    diff_northing = ...\n",
    "    diff_easting = ...\n",
    "\n",
    "    # check the convergence criterion (tolerance)\n",
    "    if ((diff_easting>tolerance) or (diff_northing>tolerance)):\n",
    "        northing_init,easting_init = northing_p6,easting_p6\n",
    "    else:\n",
    "        print(\"----\")\n",
    "        print('convergence at iteration',i+1)\n",
    "        print('Northing P6 = %f [meters], Easting P6=%f [meters]'%(northing_p6,easting_p6))\n",
    "        break"
   ]
  },
  {
   "cell_type": "markdown",
   "id": "67fe24f5-2366-4154-b76d-87495af1b6b0",
   "metadata": {},
   "source": [
    "The final step here to convert the easting, northing to the latitude longitude coordinates 👇 ✍🏻 "
   ]
  },
  {
   "cell_type": "code",
   "execution_count": null,
   "id": "4d2466b0",
   "metadata": {},
   "outputs": [],
   "source": [
    "lat_p6,lon_p6=...\n",
    "print('Geodetic coordinates Latitude P6 = %f [deg], Longitude P6=%f [deg]'%(lat_p6,lon_p6))"
   ]
  },
  {
   "cell_type": "markdown",
   "id": "3004ed8a",
   "metadata": {},
   "source": [
    "---\n",
    "\n",
    "## Part 3 Three-dimensional Helmert transformation\n",
    "\n",
    "The seven parameters of a 3D Helmert transformation from reference frame A to reference frame B have the following values:\n",
    "\n",
    "$$\n",
    "T_{X}=\\textrm{DD} \\, \\textrm{cm}, \\, T_{Y}=-\\textrm{MM} \\, \\textrm{cm}, T_{Z}=5 \\, \\textrm{cm}, \\\\\n",
    "\\alpha_{X}=-2.1^{\\prime\\prime}, \\, \\alpha_{Y}=5.9^{\\prime\\prime}, \\, \\alpha_{Z}=1^{\\prime\\prime}, \\\\\n",
    "s=2.1 \\, \\textrm{ppm},\n",
    "$$\n",
    "\n",
    "where $T_x,T_y,Tz$ are the translation parameters, $\\alpha_X,\\alpha_Y,\\alpha_Z$ are the rotation angles about the $X,Z and Z$ coordinate axes and $s$ is the scale parameter. Knowing that a geodetic station has the following geocentric coordinates in reference frame A:\n",
    "\n",
    "$$\n",
    "X_A=4033463.66 \\textrm{m}, \\\\\n",
    "Y_A=23662.54 \\textrm{m}, \\\\\n",
    "Z_A=4924305.21 \\textrm{m},\n",
    "$$\n",
    "\n",
    "\n",
    "### Q3.1 Find the corresponding coordinates of the station in reference frame B.\n",
    "\n",
    "\n",
    "👇 ✍🏻 "
   ]
  },
  {
   "cell_type": "code",
   "execution_count": null,
   "id": "66784359",
   "metadata": {},
   "outputs": [],
   "source": [
    "# transformation parameters [meters]\n",
    "TX = ...\n",
    "TY = ...\n",
    "TZ = ...\n",
    "\n",
    "# Rotation angles [seconds]\n",
    "alphaX = ...\n",
    "alphaY = ...\n",
    "alphaZ = ...\n",
    "\n",
    "# scale\n",
    "s = ..."
   ]
  },
  {
   "cell_type": "code",
   "execution_count": null,
   "id": "7c5395f2",
   "metadata": {},
   "outputs": [],
   "source": [
    "# position vector of point A [meters]\n",
    "XA = ...\n",
    "YA = ...\n",
    "ZA = ...\n",
    "xyz_A = np.array([XA,YA,ZA])"
   ]
  },
  {
   "cell_type": "markdown",
   "id": "309de165",
   "metadata": {},
   "source": [
    "Using a 7-parameters transformation:\n",
    "\n",
    "\n",
    "$$\n",
    "\\begin{pmatrix} x_B \\\\ y_B \\\\ z_B\\end{pmatrix} =\\begin{pmatrix} 1+s & -\\theta_z & \\theta_y\\\\ \\theta_z & 1+s & -\\theta_x\\\\ -\\theta_y & \\theta_x & 1+s \\end{pmatrix}\\begin{pmatrix} x_A \\\\ y_A \\\\ z_A\\end{pmatrix}+ \\begin{pmatrix} T_x \\\\ T_y \\\\ T_z\\end{pmatrix}\n",
    "$$"
   ]
  },
  {
   "cell_type": "markdown",
   "id": "afb5806b",
   "metadata": {},
   "source": [
    "Define the rotation matrix `Rot` 👇 ✍🏻 "
   ]
  },
  {
   "cell_type": "code",
   "execution_count": null,
   "id": "4a64484b",
   "metadata": {},
   "outputs": [],
   "source": [
    "# Store rotation values in array convert to decimal degrees\n",
    "Rotx = ...\n",
    "Roty = ...\n",
    "Rotz = ...\n",
    "\n",
    "# Rotation matrix\n",
    "RotationMat = np.array([[1+s,-Rotz,Roty],\n",
    "                    [Rotz,1+s,-Rotx],\n",
    "                    [-Roty,Rotx,1+s]]) "
   ]
  },
  {
   "cell_type": "markdown",
   "id": "4dc975bf",
   "metadata": {},
   "source": [
    "Define the translation vector 👇 ✍🏻 "
   ]
  },
  {
   "cell_type": "code",
   "execution_count": null,
   "id": "42e43acd",
   "metadata": {},
   "outputs": [],
   "source": [
    "TranslationMat = np.array([TX,TY,TZ])"
   ]
  },
  {
   "cell_type": "code",
   "execution_count": null,
   "id": "34c1e230",
   "metadata": {},
   "outputs": [],
   "source": [
    "RotationMat = np.array([[1+s,-Rot[2],Rot[1]],\n",
    "                    [Rot[2],1+s,-Rot[0]],\n",
    "                    [-Rot[1],Rot[0],1+s]]) "
   ]
  },
  {
   "cell_type": "markdown",
   "id": "6067eb1e",
   "metadata": {},
   "source": [
    "The solution is: 👇 ✍🏻 "
   ]
  },
  {
   "cell_type": "code",
   "execution_count": null,
   "id": "557119cc",
   "metadata": {},
   "outputs": [],
   "source": [
    "pB = ..."
   ]
  },
  {
   "cell_type": "code",
   "execution_count": null,
   "id": "8a1ef95f",
   "metadata": {},
   "outputs": [],
   "source": [
    "print(\"X - Point B: %f\"%(pB[0]))\n",
    "print(\"Y - Point B: %f\"%(pB[1]))\n",
    "print(\"Z - Point B: %f\"%(pB[2]))"
   ]
  }
 ],
 "metadata": {
  "kernelspec": {
   "display_name": "Python 3 (ipykernel)",
   "language": "python",
   "name": "python3"
  },
  "language_info": {
   "codemirror_mode": {
    "name": "ipython",
    "version": 3
   },
   "file_extension": ".py",
   "mimetype": "text/x-python",
   "name": "python",
   "nbconvert_exporter": "python",
   "pygments_lexer": "ipython3",
   "version": "3.10.12"
  }
 },
 "nbformat": 4,
 "nbformat_minor": 5
}
