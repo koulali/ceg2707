{
 "cells": [
  {
   "cell_type": "markdown",
   "metadata": {},
   "source": [
    "![test](https://github.com/koulali/ceg2707/blob/main/ceg2707_logo_notebook.png?raw=true)\n",
    "\n",
    "# Practical 3: Map projection computations and coordinate transformations\n",
    "\n",
    "This practical allows you to estimate the four parameters of a 2D conformal coordinate transformation using the method of least squares. Refer to the notes from lecture 12 to solve the problem below.\n",
    "\n",
    "A survey undertaken in an arbitrary coordinate system XY yielded the coordinates of ten points provided in the table below. The OSGB36 National Grid coordinates, E and N, of points 1, 2, 3, 4, and 5 are known and also given in the table below.\n",
    "\n",
    "| Point       |      X[m]      |     Y[m]       |    E[m]        |     N[m]       |\n",
    "| ----------- | ----------- | ----------- | ----------- | ----------- |\n",
    "|    1 \t      |  156.165    |\t89.146 \t  | 423460.605 \t|   566280.403|\n",
    "|    2 \t      |  139.554    |\t-192.952  |\t423530.683 \t|   566006.678|\n",
    "|    3 \t      |  574.098    |\t-605.764  |\t424070.288 \t|   565746.347|\n",
    "|    4 \t      |  1122.126   | \t-504.125  |\t424560.974 \t|   566010.072|\n",
    "|    5 \t      |  948.246    |\t297.217   |\t424150.785 \t|   566720.066|\n",
    "|    6 \t      |  356.039    |\t81.196 \t  |             |\t          |\n",
    "|    7 \t      |  812.347    |\t213.366   |\t\t        |             |\n",
    "|    8 \t      |  1331.409   | \t32.672 \t  |\t            |             |\n",
    "|    9 \t      |  1272.308   | \t-704.505  |\t\t        |             |\n",
    "|    10       |  804.311    |\t-278.711  |             |             | \n",
    "\n",
    "\n",
    "\n",
    "Using the mathematical model of a 2D conformal coordinate transformation from lecture 12, apply the method of least squares to determine the values of the following quantities:\n",
    "\n",
    "- the transformation parameters and their standard deviations;\n",
    "- the rotation angle and the scale factor;\n",
    "- the E and N coordinates of points 6, 7, 8, 9, and 10;\n",
    "- the standard deviations of the E and N coordinates of points 6, 7, 8, 9, and 10.\n",
    "\n",
    "Follow the instructions below to solve the problem. ✍️ means that you have to input your code in the followin cell."
   ]
  },
  {
   "cell_type": "markdown",
   "metadata": {},
   "source": [
    "## Revision on matrices\n",
    "\n",
    "In CEG2722, you have learned how to do matrix computations using Numpy. We will be using the same set of tools in this practical for doing the 2D conformal transformation. Here, I give you a short review of how to define matrices using numpy, but as you progress through the practical's notebook you'll have hints for specific syntax you need.\n",
    "\n",
    "NumPy is a module that allows for efficient operations on the data structures often used in linear algebra: vectors, matrices, and tensors.\n",
    "\n",
    "To create a one-dimensional array:\n"
   ]
  },
  {
   "cell_type": "code",
   "execution_count": null,
   "metadata": {},
   "outputs": [],
   "source": [
    "import numpy as np\n",
    "\n",
    "# Create a vector as a row\n",
    "vector_row = np.array([1, 2, 3])\n",
    "\n",
    "# Create a vector as a column\n",
    "vector_column = np.array([[1],\n",
    "                          [2],\n",
    "                          [3]])\n",
    "print(vector_column)"
   ]
  },
  {
   "cell_type": "markdown",
   "metadata": {},
   "source": [
    "To create two dimensional matrix:"
   ]
  },
  {
   "cell_type": "code",
   "execution_count": null,
   "metadata": {},
   "outputs": [],
   "source": [
    "# Create a matrix\n",
    "matrix = np.array([[1, 2],\n",
    "                   [1, 2],\n",
    "                   [1, 2]])\n",
    "print(matrix)"
   ]
  },
  {
   "cell_type": "markdown",
   "metadata": {},
   "source": [
    "To select one or more elements in a vector or matrix."
   ]
  },
  {
   "cell_type": "code",
   "execution_count": null,
   "metadata": {},
   "outputs": [],
   "source": [
    "# Create row vector\n",
    "vector = np.array([1, 2, 3, 4, 5, 6])\n",
    "\n",
    "# Create matrix\n",
    "matrix = np.array([[1, 2, 3],\n",
    "                   [4, 5, 6],\n",
    "                   [7, 8, 9]])\n",
    "\n",
    "# Select third element of vector\n",
    "vector[2]\n",
    "\n",
    "# Select second row, second column\n",
    "matrix[1,1]"
   ]
  },
  {
   "cell_type": "markdown",
   "metadata": {},
   "source": [
    "To transpose a vector or matrix."
   ]
  },
  {
   "cell_type": "code",
   "execution_count": null,
   "metadata": {},
   "outputs": [],
   "source": [
    "# Create matrix\n",
    "matrix = np.array([[1, 2, 3],\n",
    "                   [4, 5, 6],\n",
    "                   [7, 8, 9]])\n",
    "\n",
    "# Transpose matrix\n",
    "np.transpose(matrix)"
   ]
  },
  {
   "cell_type": "markdown",
   "metadata": {},
   "source": [
    "If you want to multiply two matrices: matrix_A.matrix_B"
   ]
  },
  {
   "cell_type": "code",
   "execution_count": null,
   "metadata": {},
   "outputs": [],
   "source": [
    "# Create matrix\n",
    "matrix_a = np.array([[1, 1],\n",
    "                     [1, 2]])\n",
    "\n",
    "# Create matrix\n",
    "matrix_b = np.array([[1, 3],\n",
    "                     [1, 2]])\n",
    "\n",
    "# Multiply two matrices\n",
    "matrix_a.dot(matrix_b)"
   ]
  },
  {
   "cell_type": "markdown",
   "metadata": {},
   "source": [
    "if you want to calculate the inverse of a square matrix."
   ]
  },
  {
   "cell_type": "code",
   "execution_count": null,
   "metadata": {},
   "outputs": [],
   "source": [
    "# Create matrix\n",
    "matrix = np.array([[1, 4],\n",
    "                   [2, 5]])\n",
    "\n",
    "# Calculate inverse of matrix\n",
    "np.linalg.inv(matrix)"
   ]
  },
  {
   "cell_type": "markdown",
   "metadata": {},
   "source": [
    "---\n",
    "\n",
    "## Step1\n",
    "\n",
    "By running the next two cells, we load all modules we need for the calculation. The second cell is function to print matrices in pretty format."
   ]
  },
  {
   "cell_type": "code",
   "execution_count": null,
   "metadata": {},
   "outputs": [],
   "source": [
    "import numpy as np\n",
    "from IPython.display import display, Math"
   ]
  },
  {
   "cell_type": "code",
   "execution_count": null,
   "metadata": {},
   "outputs": [],
   "source": [
    "def print_matrix(array):\n",
    "    '''\n",
    "    Function to display array as matrix in LaTeX in a Jupyter notebook \n",
    "    '''\n",
    "    matrix = ''\n",
    "    for row in array:\n",
    "        try:\n",
    "            for number in row:\n",
    "                n = \"%.5f\"%number\n",
    "                matrix += f'{n}&'\n",
    "        except TypeError:\n",
    "            r = \"%.5f\"%row\n",
    "            matrix += f'{r}&'\n",
    "        matrix = matrix[:-1] + r'\\\\'\n",
    "    display(Math(r'\\begin{bmatrix}'+matrix+r'\\end{bmatrix}'))"
   ]
  },
  {
   "cell_type": "markdown",
   "metadata": {},
   "source": [
    "### Step 2\n",
    "\n",
    "Define the design matrix $A$ ✍️"
   ]
  },
  {
   "cell_type": "code",
   "execution_count": null,
   "metadata": {},
   "outputs": [],
   "source": [
    "A=..."
   ]
  },
  {
   "cell_type": "code",
   "execution_count": null,
   "metadata": {},
   "outputs": [],
   "source": [
    "print('The design matrix A')\n",
    "print_matrix(A)"
   ]
  },
  {
   "cell_type": "markdown",
   "metadata": {},
   "source": [
    "### Step 3\n",
    "\n",
    "Now, we form the observation vector $b$ ✍️  "
   ]
  },
  {
   "cell_type": "code",
   "execution_count": null,
   "metadata": {},
   "outputs": [],
   "source": [
    "b = ..."
   ]
  },
  {
   "cell_type": "code",
   "execution_count": null,
   "metadata": {},
   "outputs": [],
   "source": [
    "print('The observation vector b')\n",
    "print_matrix(b)"
   ]
  },
  {
   "cell_type": "markdown",
   "metadata": {},
   "source": [
    "### Step 4 \n",
    "\n",
    "Calculate the \"Normal\" matrix (normal equations) $N=A^T.A$ ✍️  "
   ]
  },
  {
   "cell_type": "code",
   "execution_count": null,
   "metadata": {},
   "outputs": [],
   "source": [
    "N = ..."
   ]
  },
  {
   "cell_type": "code",
   "execution_count": null,
   "metadata": {},
   "outputs": [],
   "source": [
    "print('The normal matrix N')\n",
    "print_matrix(N)"
   ]
  },
  {
   "cell_type": "markdown",
   "metadata": {},
   "source": [
    "### Step 5\n",
    "\n",
    "The right-hand side of the normal equations d = $A^{T}b$ ✍️"
   ]
  },
  {
   "cell_type": "code",
   "execution_count": null,
   "metadata": {},
   "outputs": [],
   "source": [
    "d = ..."
   ]
  },
  {
   "cell_type": "code",
   "execution_count": null,
   "metadata": {},
   "outputs": [],
   "source": [
    "print('The right hand-side of normal equations')\n",
    "print_matrix(d)"
   ]
  },
  {
   "cell_type": "markdown",
   "metadata": {},
   "source": [
    "### Step 6\n",
    "\n",
    "Inverse of the normal matrix of size (4x4) = cofactor matrix of the parameters, $Q$ ✍️"
   ]
  },
  {
   "cell_type": "code",
   "execution_count": null,
   "metadata": {},
   "outputs": [],
   "source": [
    "Q = ..."
   ]
  },
  {
   "cell_type": "code",
   "execution_count": null,
   "metadata": {},
   "outputs": [],
   "source": [
    "print('The cofactor matrix')\n",
    "print_matrix(Q)"
   ]
  },
  {
   "cell_type": "markdown",
   "metadata": {},
   "source": [
    "### Step 7\n",
    "\n",
    "Vector of parameter estimates of size (4x1) ✍️"
   ]
  },
  {
   "cell_type": "code",
   "execution_count": null,
   "metadata": {},
   "outputs": [],
   "source": [
    "x = ..."
   ]
  },
  {
   "cell_type": "code",
   "execution_count": null,
   "metadata": {},
   "outputs": [],
   "source": [
    "print('Vector of parameter estimates')\n",
    "print_matrix(x)"
   ]
  },
  {
   "cell_type": "markdown",
   "metadata": {},
   "source": [
    "### Step 8\n",
    "\n",
    "Vector of residuals of size (10x1) ✍️"
   ]
  },
  {
   "cell_type": "code",
   "execution_count": null,
   "metadata": {},
   "outputs": [],
   "source": [
    "v = ..."
   ]
  },
  {
   "cell_type": "code",
   "execution_count": null,
   "metadata": {},
   "outputs": [],
   "source": [
    "print('Vector of residuals')\n",
    "print_matrix(v)"
   ]
  },
  {
   "cell_type": "markdown",
   "metadata": {},
   "source": [
    "### Step 9\n",
    "\n",
    "Now, we are at the stage of calculating the precision of parameter estimates. First, we need to calculate the standard deviation of unit weight $s_0$\n",
    "\n",
    "$s_0 = \\sqrt{\\dfrac{v.v^{T}}{r}}$\n",
    "\n",
    "where r is the degrees of freedom\n",
    "\n",
    "- We start by calculating r ✍️"
   ]
  },
  {
   "cell_type": "code",
   "execution_count": null,
   "metadata": {},
   "outputs": [],
   "source": [
    "r = ..."
   ]
  },
  {
   "cell_type": "markdown",
   "metadata": {},
   "source": [
    "The sum of squared residuals $v^{T}v$ ✍️"
   ]
  },
  {
   "cell_type": "code",
   "execution_count": null,
   "metadata": {},
   "outputs": [],
   "source": [
    "sres = ..."
   ]
  },
  {
   "cell_type": "code",
   "execution_count": null,
   "metadata": {},
   "outputs": [],
   "source": [
    "print('The sum of squared residuals %.5f'%sres)"
   ]
  },
  {
   "cell_type": "markdown",
   "metadata": {},
   "source": [
    "The standad deviation of unit weight $s_0$ ✍️"
   ]
  },
  {
   "cell_type": "code",
   "execution_count": null,
   "metadata": {},
   "outputs": [],
   "source": [
    "s0=..."
   ]
  },
  {
   "cell_type": "code",
   "execution_count": null,
   "metadata": {},
   "outputs": [],
   "source": [
    "print('The standad deviation of unit weight %.5f'%s0)"
   ]
  },
  {
   "cell_type": "markdown",
   "metadata": {},
   "source": [
    "The uncertainties of the prameters $a$,$b$,$c$ and $d$ are derived by multiplying $s_0$ by square-root of the diagonal of the cofactor matrix $\\sqrt{Q_{jj}}$. \n",
    "\n",
    "> To get the diagonal of a matrix in `numpy`, we use the function `np.diag()`\n",
    "\n",
    "✍️"
   ]
  },
  {
   "cell_type": "code",
   "execution_count": null,
   "metadata": {},
   "outputs": [],
   "source": [
    "sigma = ..."
   ]
  },
  {
   "cell_type": "markdown",
   "metadata": {},
   "source": [
    "### Step 10\n",
    "\n",
    "We print the final prameter estimates with their uncertainties.\n",
    "\n",
    "\n",
    "- $a = (1+s)\\cos\\alpha$\n",
    "- $b = (1+s)\\sin\\alpha$\n",
    "- $c = T_X$ \n",
    "- $d=T_Y$"
   ]
  },
  {
   "cell_type": "code",
   "execution_count": null,
   "metadata": {},
   "outputs": [],
   "source": [
    "a=x[0]\n",
    "b=x[1]\n",
    "c=x[2]\n",
    "d=x[3]"
   ]
  },
  {
   "cell_type": "code",
   "execution_count": null,
   "metadata": {},
   "outputs": [],
   "source": [
    "print(\"a = %.5f \\u00B1 %.7f\"%(a,sigma[0]))\n",
    "print(\"b = %.5f \\u00B1 %.7f\"%(b,sigma[1]))\n",
    "print(\"c = %.5f \\u00B1 %.7f\"%(c,sigma[2]))\n",
    "print(\"d = %.5f \\u00B1 %.7f\"%(d,sigma[3]))"
   ]
  },
  {
   "cell_type": "markdown",
   "metadata": {},
   "source": [
    "### Step 11\n",
    "\n",
    "Finally, we compute the rotation angle $\\alpha$ and the scale factor $(1+s)$ using:\n",
    "\n",
    "$\\alpha = \\arctan\\dfrac{b}{a}$\n",
    "\n",
    "$(s+1)=\\sqrt{a^2+b^2}$\n",
    "\n",
    "✍️"
   ]
  },
  {
   "cell_type": "code",
   "execution_count": null,
   "metadata": {},
   "outputs": [],
   "source": [
    "alpha = ...\n",
    "print('The rotation angle alpha in [degrees] = %f'%alpha)"
   ]
  },
  {
   "cell_type": "code",
   "execution_count": null,
   "metadata": {},
   "outputs": [],
   "source": [
    "s = ...\n",
    "print('The scale factor (1+s) = %f'%s)"
   ]
  },
  {
   "cell_type": "markdown",
   "metadata": {},
   "source": [
    "### Step 12\n",
    "\n",
    "Now we have derived the 2D transformation, we can calculate the missing Eastings and Northings of points 6 to 10. This simply can be achieved by multiplying the transformation matrix $M$ by the X,Y coordinates of each point.\n",
    "\n",
    "$$\n",
    " \\begin{bmatrix}\n",
    "    E\\\\\n",
    "    N\n",
    "    \\end{bmatrix}\n",
    "    =\n",
    "    \\underbrace{\n",
    "    \\begin{bmatrix}\n",
    "    a & b \\\\\n",
    "    -b & a\n",
    "    \\end{bmatrix}}_{M \\text{matrix}}\n",
    "    \\begin{bmatrix}\n",
    "    X\\\\\n",
    "    Y\n",
    "    \\end{bmatrix}\n",
    "    +\n",
    "    \\begin{bmatrix}\n",
    "    c\\\\\n",
    "    d\n",
    "    \\end{bmatrix}\n",
    "$$\n",
    "\n",
    "We form transformation matrix Tmat ✍️"
   ]
  },
  {
   "cell_type": "code",
   "execution_count": null,
   "metadata": {},
   "outputs": [],
   "source": [
    "Tmat = ..."
   ]
  },
  {
   "cell_type": "code",
   "execution_count": null,
   "metadata": {},
   "outputs": [],
   "source": [
    "print('The transformations matrix')\n",
    "print_matrix(Tmat)"
   ]
  },
  {
   "cell_type": "markdown",
   "metadata": {},
   "source": [
    "\n",
    "### Step 13\n",
    "\n",
    "We also need to calculate the uncertainties $\\sigma$ of the newly derived Easting and Northings for points 6 to 10. To do that, we multiply $s_0$ by the square root of the diagonal of the cofactor matrix $Q_y$ of additional points  \n",
    "\n",
    "$\n",
    "\\sigma = s_0\\sqrt{Qy_{ll}}\n",
    "$\n",
    "\n",
    "where the cofactor matrix $Qy = BQB^{T}$\n",
    "\n",
    "\n",
    "#### First, let's define the coefficients matrix of additional points (the same way we constructed matrix A) ✍️"
   ]
  },
  {
   "cell_type": "code",
   "execution_count": null,
   "metadata": {},
   "outputs": [],
   "source": [
    "B = ..."
   ]
  },
  {
   "cell_type": "code",
   "execution_count": null,
   "metadata": {},
   "outputs": [],
   "source": [
    "print('cofficients matrix of additional points B')\n",
    "print_matrix(B)"
   ]
  },
  {
   "cell_type": "markdown",
   "metadata": {},
   "source": [
    "#### Second, we calculate the cofactor matrix of the additional coordinates, $Qy$, of size (10x10) ✍️"
   ]
  },
  {
   "cell_type": "code",
   "execution_count": null,
   "metadata": {},
   "outputs": [],
   "source": [
    "Qy = ..."
   ]
  },
  {
   "cell_type": "code",
   "execution_count": null,
   "metadata": {},
   "outputs": [],
   "source": [
    "print('Cofactor matrix of the additional coordinates Qll')\n",
    "print_matrix(Qy)"
   ]
  },
  {
   "cell_type": "markdown",
   "metadata": {},
   "source": [
    "#### Lastly, we calculate the sigmas of the E,N is simply $\\sigma=s0\\sqrt{Qy_{ll}}$, where $Qy_{ll}$ is the diagonal of the Qy matrix ✍️"
   ]
  },
  {
   "cell_type": "code",
   "execution_count": null,
   "metadata": {},
   "outputs": [],
   "source": [
    "sigma = ..."
   ]
  },
  {
   "cell_type": "markdown",
   "metadata": {},
   "source": [
    "#### We're ready now to print the E,N coordinates with their uncertainties &#x1F453; ✍️"
   ]
  },
  {
   "cell_type": "markdown",
   "metadata": {},
   "source": [
    "- Point 6"
   ]
  },
  {
   "cell_type": "code",
   "execution_count": null,
   "metadata": {},
   "outputs": [],
   "source": [
    "XY = np.array([...,...])\n",
    "E,N = ...\n",
    "print('Point 6  : E=%.5f \\u00B1 %.5f  |  N=%.5f \\u00B1 %.5f'%(E,sigma[0],N,sigma[1]))"
   ]
  },
  {
   "cell_type": "markdown",
   "metadata": {},
   "source": [
    "- Point 7, you do the same as Point 6"
   ]
  },
  {
   "cell_type": "code",
   "execution_count": null,
   "metadata": {},
   "outputs": [],
   "source": [
    "XY = np.array([...,...])\n",
    "E,N = ...\n",
    "print('Point 6  : E=%.5f \\u00B1 %.5f  |  N=%.5f \\u00B1 %.5f'%(E,sigma[2],N,sigma[3]))"
   ]
  },
  {
   "cell_type": "markdown",
   "metadata": {},
   "source": [
    "- Point 8"
   ]
  },
  {
   "cell_type": "code",
   "execution_count": null,
   "metadata": {},
   "outputs": [],
   "source": [
    "XY = np.array([...,...])\n",
    "E,N = ...\n",
    "print('Point 6  : E=%.5f \\u00B1 %.5f  |  N=%.5f \\u00B1 %.5f'%(E,sigma[4],N,sigma[5]))"
   ]
  },
  {
   "cell_type": "markdown",
   "metadata": {},
   "source": [
    "- Point 9"
   ]
  },
  {
   "cell_type": "code",
   "execution_count": null,
   "metadata": {},
   "outputs": [],
   "source": [
    "XY = np.array([...,...])\n",
    "E,N = ...\n",
    "print('Point 6  : E=%.5f \\u00B1 %.5f  |  N=%.5f \\u00B1 %.5f'%(E,sigma[6],N,sigma[7]))"
   ]
  },
  {
   "cell_type": "markdown",
   "metadata": {},
   "source": [
    "- Point 10"
   ]
  },
  {
   "cell_type": "code",
   "execution_count": null,
   "metadata": {},
   "outputs": [],
   "source": [
    "XY = np.array([...,...])\n",
    "E,N = ...\n",
    "print('Point 6  : E=%.5f \\u00B1 %.5f  |  N=%.5f \\u00B1 %.5f'%(E,sigma[8],N,sigma[9]))"
   ]
  }
 ],
 "metadata": {
  "kernelspec": {
   "display_name": "Python 3 (ipykernel)",
   "language": "python",
   "name": "python3"
  },
  "language_info": {
   "codemirror_mode": {
    "name": "ipython",
    "version": 3
   },
   "file_extension": ".py",
   "mimetype": "text/x-python",
   "name": "python",
   "nbconvert_exporter": "python",
   "pygments_lexer": "ipython3",
   "version": "3.10.12"
  }
 },
 "nbformat": 4,
 "nbformat_minor": 4
}
